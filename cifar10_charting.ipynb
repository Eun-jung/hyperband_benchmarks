{
 "cells": [
  {
   "cell_type": "code",
   "execution_count": 26,
   "metadata": {
    "collapsed": true
   },
   "outputs": [],
   "source": [
    "dir='/home/lisha/school/Projects/hyperband_nnet/hyperband2/svhn/'\n",
    "hyperband='hyperband/'\n",
    "random='random/'\n",
    "smac='smac/'\n",
    "hyperopt='hyperopt/'\n",
    "spearmint='spearmint/'\n",
    "smac_early='early_stop/'\n"
   ]
  },
  {
   "cell_type": "code",
   "execution_count": 27,
   "metadata": {
    "collapsed": true
   },
   "outputs": [],
   "source": [
    "import pickle\n",
    "import glob, os\n",
    "import fnmatch\n"
   ]
  },
  {
   "cell_type": "code",
   "execution_count": 28,
   "metadata": {
    "collapsed": false
   },
   "outputs": [],
   "source": [
    "searchers={'hyperband':hyperband,'random':random, 'smac':smac,'hyperopt': hyperopt,'spearmint':spearmint}\n",
    "filenames={'hyperband':'hyperband','random':'random_hyperopt_august2013_mod', 'smac':'smac_2_06_01-dev','hyperopt': 'hyperopt_august2013_mod','spearmint':'spearmint_april2013_mod'}\n",
    "results={}\n",
    "for s in searchers.keys():\n",
    "    subdir=dir+searchers[s]\n",
    "    os.chdir(subdir)\n",
    "    results[s]={}\n",
    "    for dirpath, dirnames, files in os.walk(subdir):\n",
    "        for f in fnmatch.filter(files, s+'*.pkl'):\n",
    "            if s =='hyperband':\n",
    "                index_trial=dirpath.index('trial')+5\n",
    "                seed=int(dirpath[index_trial:])\n",
    "            else:\n",
    "                index_filename= dirpath.index(filenames[s])+len(filenames[s])\n",
    "                seed=int(dirpath[index_filename+1:dirpath.find('_',index_filename+1)])\n",
    "            #(s=='hyperband' and seed < 6) for random_split\n",
    "            results[s][seed]=dirpath+'/'+f\n",
    "    \n",
    "    "
   ]
  },
  {
   "cell_type": "code",
   "execution_count": 29,
   "metadata": {
    "collapsed": false
   },
   "outputs": [
    {
     "data": {
      "text/plain": [
       "{'hyperband': {100: '/home/lisha/school/Projects/hyperband_nnet/hyperband2/svhn/hyperband/trial100/hyperband_results.pkl',\n",
       "  300: '/home/lisha/school/Projects/hyperband_nnet/hyperband2/svhn/hyperband/trial300/hyperband_results.pkl',\n",
       "  400: '/home/lisha/school/Projects/hyperband_nnet/hyperband2/svhn/hyperband/trial400/hyperband_results.pkl',\n",
       "  1000: '/home/lisha/school/Projects/hyperband_nnet/hyperband2/svhn/hyperband/trial1000/hyperband_results.pkl',\n",
       "  1500: '/home/lisha/school/Projects/hyperband_nnet/hyperband2/svhn/hyperband/trial1500/hyperband_results.pkl',\n",
       "  2000: '/home/lisha/school/Projects/hyperband_nnet/hyperband2/svhn/hyperband/trial2000/hyperband_results.pkl',\n",
       "  2300: '/home/lisha/school/Projects/hyperband_nnet/hyperband2/svhn/hyperband/trial2300/hyperband_results.pkl',\n",
       "  2500: '/home/lisha/school/Projects/hyperband_nnet/hyperband2/svhn/hyperband/trial2500/hyperband_results.pkl',\n",
       "  2900: '/home/lisha/school/Projects/hyperband_nnet/hyperband2/svhn/hyperband/trial2900/hyperband_results.pkl',\n",
       "  3000: '/home/lisha/school/Projects/hyperband_nnet/hyperband2/svhn/hyperband/trial3000/hyperband_results.pkl'},\n",
       " 'hyperopt': {1500: '/home/lisha/school/Projects/hyperband_nnet/hyperband2/svhn/hyperopt/hyperopt_august2013_mod_1500_2016-5-5--3-17-34-997115/hyperopt_august2013_mod.pkl',\n",
       "  2500: '/home/lisha/school/Projects/hyperband_nnet/hyperband2/svhn/hyperopt/hyperopt_august2013_mod_2500_2016-5-5--3-18-47-736431/hyperopt_august2013_mod.pkl',\n",
       "  3500: '/home/lisha/school/Projects/hyperband_nnet/hyperband2/svhn/hyperopt/hyperopt_august2013_mod_3500_2016-5-5--3-20-32-59332/hyperopt_august2013_mod.pkl',\n",
       "  4500: '/home/lisha/school/Projects/hyperband_nnet/hyperband2/svhn/hyperopt/hyperopt_august2013_mod_4500_2016-5-5--3-22-31-515930/hyperopt_august2013_mod.pkl',\n",
       "  5500: '/home/lisha/school/Projects/hyperband_nnet/hyperband2/svhn/hyperopt/hyperopt_august2013_mod_5500_2016-5-5--3-24-30-658312/hyperopt_august2013_mod.pkl',\n",
       "  6500: '/home/lisha/school/Projects/hyperband_nnet/hyperband2/svhn/hyperopt/hyperopt_august2013_mod_6500_2016-5-14--6-47-44-62815/hyperopt_august2013_mod.pkl',\n",
       "  7500: '/home/lisha/school/Projects/hyperband_nnet/hyperband2/svhn/hyperopt/hyperopt_august2013_mod_7500_2016-5-14--6-48-43-130839/hyperopt_august2013_mod.pkl',\n",
       "  8500: '/home/lisha/school/Projects/hyperband_nnet/hyperband2/svhn/hyperopt/hyperopt_august2013_mod_8500_2016-5-14--6-51-9-174767/hyperopt_august2013_mod.pkl',\n",
       "  9500: '/home/lisha/school/Projects/hyperband_nnet/hyperband2/svhn/hyperopt/hyperopt_august2013_mod_9500_2016-5-14--6-52-12-580246/hyperopt_august2013_mod.pkl',\n",
       "  10500: '/home/lisha/school/Projects/hyperband_nnet/hyperband2/svhn/hyperopt/hyperopt_august2013_mod_10500_2016-5-14--6-54-27-23497/hyperopt_august2013_mod.pkl'},\n",
       " 'random': {1500: '/home/lisha/school/Projects/hyperband_nnet/hyperband2/svhn/random/random_hyperopt_august2013_mod_1500_2016-5-5--3-17-34-997123/random_hyperopt_august2013_mod.pkl',\n",
       "  2500: '/home/lisha/school/Projects/hyperband_nnet/hyperband2/svhn/random/random_hyperopt_august2013_mod_2500_2016-5-5--3-18-53-454361/random_hyperopt_august2013_mod.pkl',\n",
       "  3500: '/home/lisha/school/Projects/hyperband_nnet/hyperband2/svhn/random/random_hyperopt_august2013_mod_3500_2016-5-5--3-20-37-42675/random_hyperopt_august2013_mod.pkl',\n",
       "  4500: '/home/lisha/school/Projects/hyperband_nnet/hyperband2/svhn/random/random_hyperopt_august2013_mod_4500_2016-5-5--3-22-32-53258/random_hyperopt_august2013_mod.pkl',\n",
       "  5500: '/home/lisha/school/Projects/hyperband_nnet/hyperband2/svhn/random/random_hyperopt_august2013_mod_5500_2016-5-5--3-24-36-883911/random_hyperopt_august2013_mod.pkl',\n",
       "  6500: '/home/lisha/school/Projects/hyperband_nnet/hyperband2/svhn/random/random_hyperopt_august2013_mod_6500_2016-5-5--3-25-21-505515/random_hyperopt_august2013_mod.pkl',\n",
       "  7500: '/home/lisha/school/Projects/hyperband_nnet/hyperband2/svhn/random/random_hyperopt_august2013_mod_7500_2016-5-5--3-25-21-505529/random_hyperopt_august2013_mod.pkl',\n",
       "  8500: '/home/lisha/school/Projects/hyperband_nnet/hyperband2/svhn/random/random_hyperopt_august2013_mod_8500_2016-5-5--3-25-21-505504/random_hyperopt_august2013_mod.pkl',\n",
       "  9500: '/home/lisha/school/Projects/hyperband_nnet/hyperband2/svhn/random/random_hyperopt_august2013_mod_9500_2016-5-5--3-25-21-505504/random_hyperopt_august2013_mod.pkl',\n",
       "  10500: '/home/lisha/school/Projects/hyperband_nnet/hyperband2/svhn/random/random_hyperopt_august2013_mod_10500_2016-5-10--9-27-4-662039/random_hyperopt_august2013_mod.pkl',\n",
       "  11500: '/home/lisha/school/Projects/hyperband_nnet/hyperband2/svhn/random/random_hyperopt_august2013_mod_11500_2016-5-14--6-57-11-359070/random_hyperopt_august2013_mod.pkl',\n",
       "  12500: '/home/lisha/school/Projects/hyperband_nnet/hyperband2/svhn/random/random_hyperopt_august2013_mod_12500_2016-5-14--6-57-11-359057/random_hyperopt_august2013_mod.pkl',\n",
       "  13500: '/home/lisha/school/Projects/hyperband_nnet/hyperband2/svhn/random/random_hyperopt_august2013_mod_13500_2016-5-14--6-57-11-359057/random_hyperopt_august2013_mod.pkl',\n",
       "  14500: '/home/lisha/school/Projects/hyperband_nnet/hyperband2/svhn/random/random_hyperopt_august2013_mod_14500_2016-5-14--6-57-11-359129/random_hyperopt_august2013_mod.pkl',\n",
       "  16700: '/home/lisha/school/Projects/hyperband_nnet/hyperband2/svhn/random/random_hyperopt_august2013_mod_16700_2016-5-18--9-42-18-568486/random_hyperopt_august2013_mod.pkl',\n",
       "  17700: '/home/lisha/school/Projects/hyperband_nnet/hyperband2/svhn/random/random_hyperopt_august2013_mod_17700_2016-5-18--10-7-18-742716/random_hyperopt_august2013_mod.pkl',\n",
       "  18700: '/home/lisha/school/Projects/hyperband_nnet/hyperband2/svhn/random/random_hyperopt_august2013_mod_18700_2016-5-18--10-7-28-636372/random_hyperopt_august2013_mod.pkl',\n",
       "  19700: '/home/lisha/school/Projects/hyperband_nnet/hyperband2/svhn/random/random_hyperopt_august2013_mod_19700_2016-5-18--16-59-2-218620/random_hyperopt_august2013_mod.pkl',\n",
       "  20700: '/home/lisha/school/Projects/hyperband_nnet/hyperband2/svhn/random/random_hyperopt_august2013_mod_20700_2016-5-18--16-59-2-219650/random_hyperopt_august2013_mod.pkl'},\n",
       " 'smac': {1500: '/home/lisha/school/Projects/hyperband_nnet/hyperband2/svhn/smac/smac_2_06_01-dev_1500_2016-5-5--3-17-17-848364/smac_2_06_01-dev.pkl',\n",
       "  2500: '/home/lisha/school/Projects/hyperband_nnet/hyperband2/svhn/smac/smac_2_06_01-dev_2500_2016-5-5--3-18-35-391773/smac_2_06_01-dev.pkl',\n",
       "  3500: '/home/lisha/school/Projects/hyperband_nnet/hyperband2/svhn/smac/smac_2_06_01-dev_3500_2016-5-5--3-20-18-874439/smac_2_06_01-dev.pkl',\n",
       "  4500: '/home/lisha/school/Projects/hyperband_nnet/hyperband2/svhn/smac/smac_2_06_01-dev_4500_2016-5-5--3-22-18-42081/smac_2_06_01-dev.pkl',\n",
       "  5500: '/home/lisha/school/Projects/hyperband_nnet/hyperband2/svhn/smac/smac_2_06_01-dev_5500_2016-5-5--3-23-54-803381/smac_2_06_01-dev.pkl',\n",
       "  6500: '/home/lisha/school/Projects/hyperband_nnet/hyperband2/svhn/smac/smac_2_06_01-dev_6500_2016-5-14--6-46-53-777406/smac_2_06_01-dev.pkl',\n",
       "  7500: '/home/lisha/school/Projects/hyperband_nnet/hyperband2/svhn/smac/smac_2_06_01-dev_7500_2016-5-14--6-48-29-483566/smac_2_06_01-dev.pkl',\n",
       "  8500: '/home/lisha/school/Projects/hyperband_nnet/hyperband2/svhn/smac/smac_2_06_01-dev_8500_2016-5-14--6-50-52-721314/smac_2_06_01-dev.pkl',\n",
       "  9500: '/home/lisha/school/Projects/hyperband_nnet/hyperband2/svhn/smac/smac_2_06_01-dev_9500_2016-5-14--6-51-53-392769/smac_2_06_01-dev.pkl',\n",
       "  10500: '/home/lisha/school/Projects/hyperband_nnet/hyperband2/svhn/smac/smac_2_06_01-dev_10500_2016-5-14--6-53-50-366844/smac_2_06_01-dev.pkl'},\n",
       " 'spearmint': {1500: '/home/lisha/school/Projects/hyperband_nnet/hyperband2/svhn/spearmint/spearmint_april2013_mod_1500_2016-5-6--6-50-34-559498/spearmint_april2013_mod.pkl',\n",
       "  2500: '/home/lisha/school/Projects/hyperband_nnet/hyperband2/svhn/spearmint/spearmint_april2013_mod_2500_2016-5-9--17-37-25-210878/spearmint_april2013_mod.pkl',\n",
       "  3500: '/home/lisha/school/Projects/hyperband_nnet/hyperband2/svhn/spearmint/spearmint_april2013_mod_3500_2016-5-6--6-50-34-559378/spearmint_april2013_mod.pkl',\n",
       "  4500: '/home/lisha/school/Projects/hyperband_nnet/hyperband2/svhn/spearmint/spearmint_april2013_mod_4500_2016-5-6--6-50-40-470658/spearmint_april2013_mod.pkl',\n",
       "  6500: '/home/lisha/school/Projects/hyperband_nnet/hyperband2/svhn/spearmint/spearmint_april2013_mod_6500_2016-5-9--2-14-41-842444/spearmint_april2013_mod.pkl',\n",
       "  6700: '/home/lisha/school/Projects/hyperband_nnet/hyperband2/svhn/spearmint/spearmint_april2013_mod_6700_2016-5-17--11-31-15-354146/spearmint_april2013_mod.pkl',\n",
       "  7700: '/home/lisha/school/Projects/hyperband_nnet/hyperband2/svhn/spearmint/spearmint_april2013_mod_7700_2016-5-17--11-31-42-958745/spearmint_april2013_mod.pkl',\n",
       "  8700: '/home/lisha/school/Projects/hyperband_nnet/hyperband2/svhn/spearmint/spearmint_april2013_mod_8700_2016-5-17--22-45-44-355419/spearmint_april2013_mod.pkl',\n",
       "  9700: '/home/lisha/school/Projects/hyperband_nnet/hyperband2/svhn/spearmint/spearmint_april2013_mod_9700_2016-5-17--22-45-49-282235/spearmint_april2013_mod.pkl',\n",
       "  10700: '/home/lisha/school/Projects/hyperband_nnet/hyperband2/svhn/spearmint/spearmint_april2013_mod_10700_2016-5-18--9-41-4-43177/spearmint_april2013_mod.pkl'}}"
      ]
     },
     "execution_count": 29,
     "metadata": {},
     "output_type": "execute_result"
    }
   ],
   "source": [
    "results"
   ]
  },
  {
   "cell_type": "code",
   "execution_count": 30,
   "metadata": {
    "collapsed": false
   },
   "outputs": [],
   "source": [
    "test_error_append={}\n",
    "for s in ['smac','hyperopt','spearmint','random']:\n",
    "    subdir=dir+searchers[s]\n",
    "    os.chdir(subdir)\n",
    "    test_error_append[s]={}\n",
    "    for dirpath, dirnames, files in os.walk(subdir):\n",
    "        for f in fnmatch.filter(files, 'hyperband_run.log'):\n",
    "            index_filename= dirpath.index(filenames[s])+len(filenames[s])\n",
    "            seed=int(dirpath[index_filename+1:dirpath.find('_',index_filename+1)])\n",
    "            test_error_append[s][seed]=[]\n",
    "            with open(dirpath+\"/\"+f,'r') as file:\n",
    "                for x in file:\n",
    "                    search_str='Result for ParamILS: SAT'\n",
    "                    if x[:len(search_str)]==search_str:\n",
    "                        test_err=x[x.find('test_error,')+len('test_error, '):]\n",
    "                        test_error_append[s][seed].append(float(test_err))\n",
    "                        "
   ]
  },
  {
   "cell_type": "code",
   "execution_count": 31,
   "metadata": {
    "collapsed": false
   },
   "outputs": [],
   "source": [
    "seeds={'hyperband':3,'random':3, 'smac':100,'hyperopt': 100,'spearmint':100}\n",
    "data={}\n",
    "for s in results.keys():\n",
    "    data[s]={}\n",
    "    for seed in results[s].keys():\n",
    "        data[s][seed] = pickle.load(open(results[s][seed],'r'))\n",
    "    "
   ]
  },
  {
   "cell_type": "code",
   "execution_count": 32,
   "metadata": {
    "collapsed": false
   },
   "outputs": [],
   "source": [
    "def get_hyperband_results(dictionary):\n",
    "    data=dictionary[0]\n",
    "    hyperband_results=[]\n",
    "    val_err=1\n",
    "    test_err=1\n",
    "    times=[4, 8, 12, 16, 24,32,40,48,56]\n",
    "    #times=[4, 8, 12, 16, 20,28,36,44,52,60]\n",
    "    indices=[0,1,2,3,5,6,7,8,9]\n",
    "    for i in range(len(times)):\n",
    "        time=times[i]\n",
    "        index=indices[i]\n",
    "        if 1- data[index][1][-2] < val_err:\n",
    "            val_err = 1- data[index][1][-2]\n",
    "            test_err = 1-data[index][1][-1]\n",
    "        hyperband_results.append([time,val_err,test_err])\n",
    "    return hyperband_results"
   ]
  },
  {
   "cell_type": "code",
   "execution_count": 33,
   "metadata": {
    "collapsed": false
   },
   "outputs": [],
   "source": [
    "def get_random_results(data,speed=1):\n",
    "    #data=dictionary[0]\n",
    "    random_results=[]\n",
    "    n_arms=len(data)\n",
    "    val_err=1\n",
    "    test_err=1\n",
    "    \n",
    "    for i in range(n_arms):\n",
    "        time = (i+1)*1.0/speed\n",
    "        if data[i]['result']<val_err:\n",
    "            val_err = data[i]['result']\n",
    "            test_err = data[i]['test_error']\n",
    "        random_results.append([time,val_err,test_err])\n",
    "    return random_results"
   ]
  },
  {
   "cell_type": "code",
   "execution_count": 34,
   "metadata": {
    "collapsed": true
   },
   "outputs": [],
   "source": [
    "def get_early_stop(filename):\n",
    "    data = open(filename,'r')\n",
    "    results=[]\n",
    "    time=0\n",
    "    val_acc = 0\n",
    "    test_acc= 0\n",
    "    for line in data:\n",
    "        d=line.split(',')\n",
    "        time =time+int(d[5])/75.0\n",
    "        if float(d[1])>val_acc:\n",
    "            val_acc=float(d[1])\n",
    "            test_acc=float(d[3])\n",
    "        results.append([time,1-val_acc,1-test_acc])\n",
    "    norm_results=[]\n",
    "    for i in range(1,58):\n",
    "        ind=len([t[0] for t in results if t[0] <= i])-1\n",
    "        norm_results.append([i,results[ind][1],results[ind][2]])\n",
    "    print ind\n",
    "    return norm_results\n",
    "            \n",
    "        \n",
    "        "
   ]
  },
  {
   "cell_type": "code",
   "execution_count": 35,
   "metadata": {
    "collapsed": false
   },
   "outputs": [],
   "source": [
    "def minutes(time,start):\n",
    "    return (time-start)/60.\n",
    "def get_results_hpo(data):\n",
    "    output=[]\n",
    "    val_err=1\n",
    "    test_err=1\n",
    "    for i in range(len(data['cv_endtime'])):\n",
    "        dur = i+1\n",
    "        if data['trials'][i]['result'] < val_err:\n",
    "            val_err=data['trials'][i]['result']\n",
    "            test_err=data['trials'][i]['test_error']\n",
    "        output.append([dur,val_err,test_err])\n",
    "    return output\n",
    "min_results={}\n",
    "for s in ['random','hyperband','smac','hyperopt','spearmint']:\n",
    "    min_results[s]={}\n",
    "    for seed in data[s].keys():\n",
    "        #if s =='random':\n",
    "        #    min_results[s][seed]=get_random_results(data[s][seed][0],1)\n",
    "        if s =='hyperband':\n",
    "            min_results[s][seed]=get_hyperband_results(data[s][seed])\n",
    "        else:\n",
    "            min_results[s][seed]=get_results_hpo(data[s][seed])\n",
    "    \n",
    "        \n",
    "min_results['random_2x']={}\n",
    "for seed in range(len(data['random'].keys())/2):\n",
    "    seed1=data['random'].keys()[2*seed]\n",
    "    seed2=data['random'].keys()[2*seed+1]\n",
    "    random_data=data['random'][seed1]['trials']+data['random'][seed2]['trials']\n",
    "    min_results['random_2x'][seed1]=get_random_results(random_data,2)\n",
    "\n"
   ]
  },
  {
   "cell_type": "code",
   "execution_count": 23,
   "metadata": {
    "collapsed": false,
    "scrolled": true
   },
   "outputs": [
    {
     "name": "stdout",
     "output_type": "stream",
     "text": [
      "/home/lisha/school/Projects/hyperband_nnet/hyperband2/mrbi/early_stop/smac_2_06_01-dev_4000_2016\n",
      "120\n",
      "/home/lisha/school/Projects/hyperband_nnet/hyperband2/mrbi/early_stop/smac_2_06_01-dev_6700_2016-5-17--18-23-13-279295\n",
      "131\n",
      "/home/lisha/school/Projects/hyperband_nnet/hyperband2/mrbi/early_stop/smac_2_06_01-dev_9700_2016-5-17--18-25-49-427912\n",
      "110\n",
      "/home/lisha/school/Projects/hyperband_nnet/hyperband2/mrbi/early_stop/smac_2_06_01-dev_8700_2016-5-17--18-25-43-489290\n",
      "103\n",
      "/home/lisha/school/Projects/hyperband_nnet/hyperband2/mrbi/early_stop/smac_2_06_01-dev_6000_2016\n",
      "119\n",
      "/home/lisha/school/Projects/hyperband_nnet/hyperband2/mrbi/early_stop/smac_2_06_01-dev_7700_2016-5-17--18-25-38-51692\n",
      "107\n",
      "/home/lisha/school/Projects/hyperband_nnet/hyperband2/mrbi/early_stop/smac_2_06_01-dev_10700_2016-5-17--18-27-17-969747\n",
      "114\n",
      "/home/lisha/school/Projects/hyperband_nnet/hyperband2/mrbi/early_stop/smac_2_06_01-dev_3000_2016\n",
      "115\n",
      "/home/lisha/school/Projects/hyperband_nnet/hyperband2/mrbi/early_stop/smac_2_06_01-dev_5000_2016\n",
      "123\n",
      "/home/lisha/school/Projects/hyperband_nnet/hyperband2/mrbi/early_stop/smac_2_06_01-dev_2000_2016\n",
      "115\n"
     ]
    }
   ],
   "source": [
    "os.chdir(dir+smac_early)\n",
    "min_results['smac_early']={}\n",
    "for dirpath, dirnames, files in os.walk(dir+smac_early):\n",
    "    for f in fnmatch.filter(files, 'run_log.txt'):\n",
    "        index_filename= dirpath.index(filenames['smac'])+len(filenames['smac'])\n",
    "        seed=int(dirpath[index_filename+1:dirpath.find('_',index_filename+1)])\n",
    "        print dirpath\n",
    "        min_results['smac_early'][seed]=get_early_stop(dirpath+'/'+f)"
   ]
  },
  {
   "cell_type": "code",
   "execution_count": 36,
   "metadata": {
    "collapsed": false
   },
   "outputs": [],
   "source": [
    "pickle.dump(min_results,open('../svhn_data.pkl','w'))"
   ]
  },
  {
   "cell_type": "code",
   "execution_count": 438,
   "metadata": {
    "collapsed": false
   },
   "outputs": [],
   "source": [
    "import numpy\n",
    "def average_trials(s_data):\n",
    "    mean_data={}\n",
    "    for s in s_data.keys():\n",
    "        mean_data[s]=[]\n",
    "        min_iters=min([len(s_data[s][seed]) for seed in s_data[s].keys()])\n",
    "        for i in range(min_iters):\n",
    "            avg_r=numpy.nanmean([min_results[s][seed][i] for seed in min_results[s].keys()],axis=0)\n",
    "            max_r=numpy.nanmax([min_results[s][seed][i] for seed in min_results[s].keys()],axis=0)\n",
    "            max_r[1:]=max_r[1:]-avg_r[1:]\n",
    "            min_r=numpy.nanmin([min_results[s][seed][i] for seed in min_results[s].keys()],axis=0)\n",
    "            min_r[1:]=avg_r[1:]-min_r[1:]\n",
    "            mean_data[s].append([min_r,avg_r,max_r])\n",
    "    return mean_data"
   ]
  },
  {
   "cell_type": "code",
   "execution_count": 439,
   "metadata": {
    "collapsed": false
   },
   "outputs": [
    {
     "data": {
      "text/plain": [
       "[[8700, [70, 0.21709999999999999, 0.21740000000000001]],\n",
       " [6700, [70, 0.2424, 0.24490000000000001]],\n",
       " [9700, [63, 0.19850000000000001, 0.2011]],\n",
       " [7700, [70, 0.189, 0.1908]],\n",
       " [10700, [70, 0.21440000000000001, 0.21759999999999999]]]"
      ]
     },
     "execution_count": 439,
     "metadata": {},
     "output_type": "execute_result"
    }
   ],
   "source": [
    "#[[s,min_results['hyperopt'][s][55][1:]] for s in min_results['hyperopt'].keys()]\n",
    "[[k,min_results['spearmint'][k][-1]] for k in min_results['spearmint'].keys()]\n",
    "#min_results['spearmint'][8700].append([55,0.044499999999999998,0.040231000000000003])\n",
    "#min_results['spearmint'][8700].append([56,0.044499999999999998,0.040231000000000003])"
   ]
  },
  {
   "cell_type": "code",
   "execution_count": 440,
   "metadata": {
    "collapsed": false
   },
   "outputs": [],
   "source": [
    "mean_data=average_trials(min_results)"
   ]
  },
  {
   "cell_type": "code",
   "execution_count": 425,
   "metadata": {
    "collapsed": false
   },
   "outputs": [],
   "source": [
    "import matplotlib\n",
    "from matplotlib.backends.backend_pdf import PdfPages\n",
    "from matplotlib import pyplot as plt\n"
   ]
  },
  {
   "cell_type": "code",
   "execution_count": 384,
   "metadata": {
    "collapsed": false
   },
   "outputs": [
    {
     "ename": "KeyError",
     "evalue": "100",
     "output_type": "error",
     "traceback": [
      "\u001b[1;31m---------------------------------------------------------------------------\u001b[0m",
      "\u001b[1;31mKeyError\u001b[0m                                  Traceback (most recent call last)",
      "\u001b[1;32m<ipython-input-384-4a90e3cef9e7>\u001b[0m in \u001b[0;36m<module>\u001b[1;34m()\u001b[0m\n\u001b[0;32m     23\u001b[0m \u001b[0mplt\u001b[0m\u001b[1;33m.\u001b[0m\u001b[0mfigure\u001b[0m\u001b[1;33m(\u001b[0m\u001b[0mfigsize\u001b[0m\u001b[1;33m=\u001b[0m\u001b[1;33m(\u001b[0m\u001b[1;36m11\u001b[0m\u001b[1;33m,\u001b[0m\u001b[1;36m8.5\u001b[0m\u001b[1;33m)\u001b[0m\u001b[1;33m)\u001b[0m\u001b[1;33m\u001b[0m\u001b[0m\n\u001b[0;32m     24\u001b[0m \u001b[0mplt\u001b[0m\u001b[1;33m.\u001b[0m\u001b[0msubplot\u001b[0m\u001b[1;33m(\u001b[0m\u001b[1;36m121\u001b[0m\u001b[1;33m)\u001b[0m\u001b[1;33m\u001b[0m\u001b[0m\n\u001b[1;32m---> 25\u001b[1;33m \u001b[0mresults_plot\u001b[0m\u001b[1;33m(\u001b[0m\u001b[1;36m1\u001b[0m\u001b[1;33m)\u001b[0m\u001b[1;33m\u001b[0m\u001b[0m\n\u001b[0m\u001b[0;32m     26\u001b[0m \u001b[0mplt\u001b[0m\u001b[1;33m.\u001b[0m\u001b[0msubplot\u001b[0m\u001b[1;33m(\u001b[0m\u001b[1;36m122\u001b[0m\u001b[1;33m)\u001b[0m\u001b[1;33m\u001b[0m\u001b[0m\n\u001b[0;32m     27\u001b[0m \u001b[0mresults_plot\u001b[0m\u001b[1;33m(\u001b[0m\u001b[1;36m2\u001b[0m\u001b[1;33m)\u001b[0m\u001b[1;33m\u001b[0m\u001b[0m\n",
      "\u001b[1;32m<ipython-input-384-4a90e3cef9e7>\u001b[0m in \u001b[0;36mresults_plot\u001b[1;34m(index)\u001b[0m\n\u001b[0;32m      9\u001b[0m         \u001b[1;32mfor\u001b[0m \u001b[0mseed_ind\u001b[0m \u001b[1;32min\u001b[0m \u001b[0mrange\u001b[0m\u001b[1;33m(\u001b[0m\u001b[1;36m1\u001b[0m\u001b[1;33m)\u001b[0m\u001b[1;33m:\u001b[0m\u001b[1;33m\u001b[0m\u001b[0m\n\u001b[0;32m     10\u001b[0m             \u001b[0mseed\u001b[0m\u001b[1;33m=\u001b[0m\u001b[0mseeds\u001b[0m\u001b[1;33m[\u001b[0m\u001b[0ms\u001b[0m\u001b[1;33m]\u001b[0m\u001b[1;33m\u001b[0m\u001b[0m\n\u001b[1;32m---> 11\u001b[1;33m             \u001b[1;32mif\u001b[0m \u001b[0mmin_results\u001b[0m\u001b[1;33m[\u001b[0m\u001b[0ms\u001b[0m\u001b[1;33m]\u001b[0m\u001b[1;33m[\u001b[0m\u001b[0mseed\u001b[0m\u001b[1;33m]\u001b[0m\u001b[1;33m[\u001b[0m\u001b[1;36m0\u001b[0m\u001b[1;33m]\u001b[0m\u001b[1;33m[\u001b[0m\u001b[1;36m0\u001b[0m\u001b[1;33m]\u001b[0m\u001b[1;33m>\u001b[0m\u001b[1;36m0\u001b[0m\u001b[1;33m:\u001b[0m\u001b[1;33m\u001b[0m\u001b[0m\n\u001b[0m\u001b[0;32m     12\u001b[0m                 \u001b[0mmin_results\u001b[0m\u001b[1;33m[\u001b[0m\u001b[0ms\u001b[0m\u001b[1;33m]\u001b[0m\u001b[1;33m[\u001b[0m\u001b[0mseed\u001b[0m\u001b[1;33m]\u001b[0m\u001b[1;33m.\u001b[0m\u001b[0minsert\u001b[0m\u001b[1;33m(\u001b[0m\u001b[1;36m0\u001b[0m\u001b[1;33m,\u001b[0m\u001b[1;33m[\u001b[0m\u001b[1;36m1\u001b[0m\u001b[1;33m,\u001b[0m\u001b[1;36m1\u001b[0m\u001b[1;33m,\u001b[0m\u001b[1;36m1\u001b[0m\u001b[1;33m]\u001b[0m\u001b[1;33m)\u001b[0m\u001b[1;33m\u001b[0m\u001b[0m\n\u001b[0;32m     13\u001b[0m             \u001b[1;32mif\u001b[0m \u001b[0mseed_ind\u001b[0m\u001b[1;33m==\u001b[0m\u001b[1;36m0\u001b[0m\u001b[1;33m:\u001b[0m\u001b[1;33m\u001b[0m\u001b[0m\n",
      "\u001b[1;31mKeyError\u001b[0m: 100"
     ]
    }
   ],
   "source": [
    "colors={'hyperband':'y','smac':'r','hyperopt':'b','random':'g','spearmint':'c','random_2x':'g'}\n",
    "seeds={'hyperband':3,'random':3, 'smac':100,'hyperopt': 100,'spearmint':100}\n",
    "def results_plot(index):\n",
    "    for s in ['smac','hyperopt','hyperband','random_2x','spearmint']:\n",
    "        if index==2:\n",
    "            axis_label='Test Error'\n",
    "        else:\n",
    "            axis_label='Val Error'\n",
    "        for seed_ind in range(1):\n",
    "            seed=seeds[s]\n",
    "            if min_results[s][seed][0][0]>0:\n",
    "                min_results[s][seed].insert(0,[1,1,1])\n",
    "            if seed_ind==0:\n",
    "                plt.plot([t[0] for t in min_results[s][seed]],[t[index] for t in min_results[s][seed]],color=colors[s])\n",
    "            else:\n",
    "                plt.plot([t[0] for t in min_results[s][seed]],[t[index] for t in min_results[s][seed]],color=colors[s],\n",
    "                         label=s)\n",
    "        plt.legend()\n",
    "        plt.xlabel('# Arms trained to Completion')\n",
    "        plt.ylabel(axis_label)\n",
    "    #plt.ticklabel_format(style='sci', axis='x', scilimits=(0,0))\n",
    "pdf=PdfPages('../mrbi_error_trial2.pdf')\n",
    "plt.figure(figsize=(11,8.5))\n",
    "plt.subplot(121)\n",
    "results_plot(1)\n",
    "plt.subplot(122)\n",
    "results_plot(2)\n",
    "plt.suptitle('Validation and Test Error on Cifar10')\n",
    "pdf.savefig()\n",
    "plt.close()\n",
    "pdf.close()\n",
    "#plt.show()\n"
   ]
  },
  {
   "cell_type": "code",
   "execution_count": 443,
   "metadata": {
    "collapsed": false
   },
   "outputs": [],
   "source": [
    "colors={'hyperband':'y','smac':'r','hyperopt':'b','random':'g','spearmint':'c','random_2x':'g','smac_early':'r'}\n",
    "seeds={'hyperband':3,'random':3, 'smac':100,'hyperopt': 100,'spearmint':100}\n",
    "labels={'hyperband':'hyperband','smac':'smac','hyperopt':'TPE','random':'random','spearmint':'spearmint','random_2x':'random_2x','smac_early':'smac_early'}\n",
    "def results_plot(index,error):\n",
    "    matplotlib.rcParams.update({'font.size': 16})\n",
    "    line_width=2\n",
    "    edge_width=2\n",
    "    shift = 0.3\n",
    "    for s in ['random_2x','smac','smac_early','hyperopt','hyperband','spearmint']:\n",
    "        if index==2:\n",
    "            axis_label='Average Test Error'\n",
    "        else:\n",
    "            axis_label='Average Val Error'\n",
    "        if s == 'hyperband':\n",
    "            if error:\n",
    "                plt.errorbar([i[0][0] for i in mean_data[s]],[i[1][index] for i in mean_data[s]],color=colors[s],\n",
    "                              yerr=[[i[0][index] for i in mean_data[s]],[i[2][index] for i in mean_data[s]]],\n",
    "                         label=labels[s],linewidth=line_width,marker='x',markeredgewidth=edge_width,elinewidth=0.5,capthick=0.5)\n",
    "            else:\n",
    "                plt.plot([i[0][0] for i in mean_data[s]],[i[1][index] for i in mean_data[s]],color=colors[s],                          \n",
    "                     label=labels[s],linewidth=line_width,marker='x',markeredgewidth=edge_width)\n",
    "            #+' # trials = '+str(len(min_results[s].keys()))\n",
    "            #x=[i[0][0] for i in mean_data[s]]\n",
    "            #y=numpy.array([i[1][index] for i in mean_data[s]])\n",
    "            #y_min=y-numpy.array([i[0][index] for i in mean_data[s]])\n",
    "            #y_max=y+numpy.array([i[2][index] for i in mean_data[s]])\n",
    "            #    plt.plot(x,y,color=colors[s],\n",
    "            #              label=s+' # trials = '+str(len(min_results[s].keys())))\n",
    "            #plt.fill_between(x,y_min,y_max,alpha=0.5,edgecolor='y',facecolor='y')\n",
    "        elif s=='random_2x':\n",
    "            if error:\n",
    "                plt.errorbar([row[0][0] for row in mean_data[s]],[row[1][index] for row in mean_data[s]],color=colors[s],errorevery=8,\n",
    "                          yerr=[[row[0][index] for row in mean_data[s]],\n",
    "                                [row[2][index] for row in mean_data[s]]],label=labels[s],linewidth=line_width,marker='+',markeredgewidth=edge_width,elinewidth=0.5,capthick=0.5,markevery=4)\n",
    "            else:\n",
    "                plt.plot([row[0][0] for row in mean_data[s]],[row[1][index] for row in mean_data[s]],color=colors[s],\n",
    "                          label=labels[s],linewidth=line_width,marker='+',markeredgewidth=edge_width,markevery=4)\n",
    "        #elif s=='smac_early':\n",
    "        #    plt.plot(numpy.array([row[0][0] for row in mean_data[s]]),[row[1][index] for row in mean_data[s]],color=colors[s],\n",
    "        #                  label=labels[s],linewidth=line_width, marker='^',markevery=4,markeredgecolor='r')\n",
    "        else:\n",
    "            #plt.plot([i[0][0] for i in mean_data[s]],[i[1][index] for i in mean_data[s]],color=colors[s],                          \n",
    "            #         label=s+' # trials = '+str(len(min_results[s].keys())))\n",
    "            #x=[row[0][0] for row in mean_data[s]]\n",
    "            #y=numpy.array([row[1][index] for row in mean_data[s]])\n",
    "            #y_min=y-numpy.array([row[0][index] for row in mean_data[s]])\n",
    "            #y_max=y+numpy.array([row[2][index] for row in mean_data[s]])\n",
    "            if error:\n",
    "                plt.errorbar(numpy.array([row[0][0]+shift for row in mean_data[s]]),[row[1][index] for row in mean_data[s]],color=colors[s],errorevery=4,\n",
    "                          yerr=[[row[0][index] for row in mean_data[s]],\n",
    "                                [row[2][index] for row in mean_data[s]]],label=labels[s],linewidth=line_width,elinewidth=0.5,capthick=0.5)\n",
    "            else:\n",
    "                plt.plot(numpy.array([row[0][0] for row in mean_data[s]]),[row[1][index] for row in mean_data[s]],color=colors[s],\n",
    "                          label=labels[s],linewidth=line_width)\n",
    "            shift+=0.3\n",
    "    #plt.legend(ncol=2,columnspacing=0.2,fancybox=True, framealpha=0.75)\n",
    "    plt.xlim([0,57])\n",
    "    plt.ylim([0.175,0.325])\n",
    "    plt.xlabel('Multiple of Max Iter Used')\n",
    "    plt.ylabel(axis_label)\n",
    "    #plt.ticklabel_format(style='sci', axis='x', scilimits=(0,0))\n",
    "#pdf=PdfPages('../SVHN_error_avg_bars.pdf')\n",
    "plt.figure(figsize=(6.5,5.5))\n",
    "#plt.subplot(121)\n",
    "#results_plot(1)\n",
    "#plt.subplot(122)\n",
    "results_plot(2,1)\n",
    "#plt.suptitle('Test Error on CIFAR-10')\n",
    "#pdf.savefig()\n",
    "#plt.close()\n",
    "#pdf.close()\n",
    "plt.show()\n"
   ]
  },
  {
   "cell_type": "code",
   "execution_count": 299,
   "metadata": {
    "collapsed": false
   },
   "outputs": [
    {
     "ename": "NameError",
     "evalue": "name 'shift' is not defined",
     "output_type": "error",
     "traceback": [
      "\u001b[1;31m---------------------------------------------------------------------------\u001b[0m",
      "\u001b[1;31mNameError\u001b[0m                                 Traceback (most recent call last)",
      "\u001b[1;32m<ipython-input-299-941a82a3b8a9>\u001b[0m in \u001b[0;36m<module>\u001b[1;34m()\u001b[0m\n\u001b[1;32m----> 1\u001b[1;33m \u001b[0mshift\u001b[0m\u001b[1;33m\u001b[0m\u001b[0m\n\u001b[0m",
      "\u001b[1;31mNameError\u001b[0m: name 'shift' is not defined"
     ]
    }
   ],
   "source": [
    "shift"
   ]
  },
  {
   "cell_type": "code",
   "execution_count": 171,
   "metadata": {
    "collapsed": false
   },
   "outputs": [
    {
     "data": {
      "text/plain": [
       "[(array(0.7599999904632568, dtype=float32),\n",
       "  array(0.8199999928474426, dtype=float32)),\n",
       " (array(0.7099999785423279, dtype=float32), array(0.75, dtype=float32)),\n",
       " (array(0.7099999785423279, dtype=float32),\n",
       "  array(0.8100000023841858, dtype=float32)),\n",
       " (array(0.699999988079071, dtype=float32),\n",
       "  array(0.7799999713897705, dtype=float32)),\n",
       " (array(0.699999988079071, dtype=float32),\n",
       "  array(0.7099999785423279, dtype=float32)),\n",
       " (array(0.7799999713897705, dtype=float32),\n",
       "  array(0.8299999833106995, dtype=float32)),\n",
       " (array(0.6800000071525574, dtype=float32),\n",
       "  array(0.7900000214576721, dtype=float32)),\n",
       " (array(0.699999988079071, dtype=float32),\n",
       "  array(0.7900000214576721, dtype=float32)),\n",
       " (array(0.7900000214576721, dtype=float32),\n",
       "  array(0.8299999833106995, dtype=float32))]"
      ]
     },
     "execution_count": 171,
     "metadata": {},
     "output_type": "execute_result"
    }
   ],
   "source": [
    "[(max([i[2] for i in data['random'][s][0]]),max([i[3] for i in data['random'][s][0]])) for s in data['random'].keys()]"
   ]
  },
  {
   "cell_type": "code",
   "execution_count": null,
   "metadata": {
    "collapsed": true
   },
   "outputs": [],
   "source": []
  }
 ],
 "metadata": {
  "kernelspec": {
   "display_name": "Python 2",
   "language": "python",
   "name": "python2"
  },
  "language_info": {
   "codemirror_mode": {
    "name": "ipython",
    "version": 2
   },
   "file_extension": ".py",
   "mimetype": "text/x-python",
   "name": "python",
   "nbconvert_exporter": "python",
   "pygments_lexer": "ipython2",
   "version": "2.7.10"
  }
 },
 "nbformat": 4,
 "nbformat_minor": 0
}
