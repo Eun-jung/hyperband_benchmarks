{
 "cells": [
  {
   "cell_type": "code",
   "execution_count": 1,
   "metadata": {
    "collapsed": true
   },
   "outputs": [],
   "source": [
    "dir='/home/lisha/school/Projects/hyperband_nnet/hyperband2/mrbi/'\n",
    "hyperband='hyperband/'\n",
    "random='random/'\n",
    "smac='smac/'\n",
    "hyperopt='hyperopt/'\n",
    "spearmint='spearmint/'\n"
   ]
  },
  {
   "cell_type": "code",
   "execution_count": 2,
   "metadata": {
    "collapsed": true
   },
   "outputs": [],
   "source": [
    "import pickle\n",
    "import glob, os\n",
    "import fnmatch\n"
   ]
  },
  {
   "cell_type": "code",
   "execution_count": 3,
   "metadata": {
    "collapsed": false
   },
   "outputs": [],
   "source": [
    "searchers={'hyperband':hyperband,'random':random, 'smac':smac,'hyperopt': hyperopt,'spearmint':spearmint}\n",
    "filenames={'hyperband':'hyperband','random':'random_hyperopt_august2013_mod', 'smac':'smac_2_06_01-dev','hyperopt': 'hyperopt_august2013_mod','spearmint':'spearmint_april2013_mod'}\n",
    "results={}\n",
    "for s in searchers.keys():\n",
    "    subdir=dir+searchers[s]\n",
    "    os.chdir(subdir)\n",
    "    results[s]={}\n",
    "    for dirpath, dirnames, files in os.walk(subdir):\n",
    "        for f in fnmatch.filter(files, s+'*.pkl'):\n",
    "            if s =='hyperband':\n",
    "                index_trial=dirpath.index('trial')+5\n",
    "                seed=int(dirpath[index_trial:])\n",
    "            else:\n",
    "                index_filename= dirpath.index(filenames[s])+len(filenames[s])\n",
    "                seed=int(dirpath[index_filename+1:dirpath.find('_',index_filename+1)])\n",
    "            #(s=='hyperband' and seed < 6) for random_split\n",
    "            results[s][seed]=dirpath+'/'+f\n",
    "    \n",
    "    "
   ]
  },
  {
   "cell_type": "code",
   "execution_count": 4,
   "metadata": {
    "collapsed": false
   },
   "outputs": [
    {
     "data": {
      "text/plain": [
       "{'hyperband': {2300: '/home/lisha/school/Projects/hyperband_nnet/hyperband2/mrbi/hyperband/trial2300/hyperband_results.pkl',\n",
       "  2500: '/home/lisha/school/Projects/hyperband_nnet/hyperband2/mrbi/hyperband/trial2500/hyperband_results.pkl',\n",
       "  2600: '/home/lisha/school/Projects/hyperband_nnet/hyperband2/mrbi/hyperband/trial2600/hyperband_results.pkl',\n",
       "  2700: '/home/lisha/school/Projects/hyperband_nnet/hyperband2/mrbi/hyperband/trial2700/hyperband_results.pkl',\n",
       "  2800: '/home/lisha/school/Projects/hyperband_nnet/hyperband2/mrbi/hyperband/trial2800/hyperband_results.pkl'},\n",
       " 'hyperopt': {1700: '/home/lisha/school/Projects/hyperband_nnet/hyperband2/mrbi/hyperopt/hyperopt_august2013_mod_1700_2016-5-6--21-50-17-314556/hyperopt_august2013_mod.pkl',\n",
       "  2700: '/home/lisha/school/Projects/hyperband_nnet/hyperband2/mrbi/hyperopt/hyperopt_august2013_mod_2700_2016-5-6--22-1-58-120926/hyperopt_august2013_mod.pkl',\n",
       "  3700: '/home/lisha/school/Projects/hyperband_nnet/hyperband2/mrbi/hyperopt/hyperopt_august2013_mod_3700_2016-5-6--22-17-1-784733/hyperopt_august2013_mod.pkl',\n",
       "  4700: '/home/lisha/school/Projects/hyperband_nnet/hyperband2/mrbi/hyperopt/hyperopt_august2013_mod_4700_2016-5-6--22-19-38-736910/hyperopt_august2013_mod.pkl',\n",
       "  5700: '/home/lisha/school/Projects/hyperband_nnet/hyperband2/mrbi/hyperopt/hyperopt_august2013_mod_5700_2016-5-6--22-22-18-628656/hyperopt_august2013_mod.pkl'},\n",
       " 'random': {1700: '/home/lisha/school/Projects/hyperband_nnet/hyperband2/mrbi/random/random_hyperopt_august2013_mod_1700_2016-5-6--21-50-18-803929/random_hyperopt_august2013_mod.pkl',\n",
       "  2700: '/home/lisha/school/Projects/hyperband_nnet/hyperband2/mrbi/random/random_hyperopt_august2013_mod_2700_2016-5-6--22-2-3-283531/random_hyperopt_august2013_mod.pkl',\n",
       "  3700: '/home/lisha/school/Projects/hyperband_nnet/hyperband2/mrbi/random/random_hyperopt_august2013_mod_3700_2016-5-6--22-17-4-829074/random_hyperopt_august2013_mod.pkl',\n",
       "  4700: '/home/lisha/school/Projects/hyperband_nnet/hyperband2/mrbi/random/random_hyperopt_august2013_mod_4700_2016-5-6--22-19-38-915277/random_hyperopt_august2013_mod.pkl',\n",
       "  5700: '/home/lisha/school/Projects/hyperband_nnet/hyperband2/mrbi/random/random_hyperopt_august2013_mod_5700_2016-5-6--22-22-23-194623/random_hyperopt_august2013_mod.pkl',\n",
       "  6700: '/home/lisha/school/Projects/hyperband_nnet/hyperband2/mrbi/random/random_hyperopt_august2013_mod_6700_2016-5-6--22-25-9-449355/random_hyperopt_august2013_mod.pkl',\n",
       "  7700: '/home/lisha/school/Projects/hyperband_nnet/hyperband2/mrbi/random/random_hyperopt_august2013_mod_7700_2016-5-6--22-25-9-449365/random_hyperopt_august2013_mod.pkl',\n",
       "  8700: '/home/lisha/school/Projects/hyperband_nnet/hyperband2/mrbi/random/random_hyperopt_august2013_mod_8700_2016-5-6--22-25-9-449355/random_hyperopt_august2013_mod.pkl',\n",
       "  9700: '/home/lisha/school/Projects/hyperband_nnet/hyperband2/mrbi/random/random_hyperopt_august2013_mod_9700_2016-5-6--22-25-12-23506/random_hyperopt_august2013_mod.pkl',\n",
       "  10700: '/home/lisha/school/Projects/hyperband_nnet/hyperband2/mrbi/random/random_hyperopt_august2013_mod_10700_2016-5-10--2-54-33-777833/random_hyperopt_august2013_mod.pkl'},\n",
       " 'smac': {1700: '/home/lisha/school/Projects/hyperband_nnet/hyperband2/mrbi/smac/smac_2_06_01-dev_1700_2016-5-6--21-50-1-622125/smac_2_06_01-dev.pkl',\n",
       "  2700: '/home/lisha/school/Projects/hyperband_nnet/hyperband2/mrbi/smac/smac_2_06_01-dev_2700_2016-5-6--22-1-40-168007/smac_2_06_01-dev.pkl',\n",
       "  3700: '/home/lisha/school/Projects/hyperband_nnet/hyperband2/mrbi/smac/smac_2_06_01-dev_3700_2016-5-6--22-16-45-533655/smac_2_06_01-dev.pkl',\n",
       "  4700: '/home/lisha/school/Projects/hyperband_nnet/hyperband2/mrbi/smac/smac_2_06_01-dev_4700_2016-5-6--22-19-25-877981/smac_2_06_01-dev.pkl',\n",
       "  5700: '/home/lisha/school/Projects/hyperband_nnet/hyperband2/mrbi/smac/smac_2_06_01-dev_5700_2016-5-6--22-22-5-716245/smac_2_06_01-dev.pkl'},\n",
       " 'spearmint': {1700: '/home/lisha/school/Projects/hyperband_nnet/hyperband2/mrbi/spearmint/spearmint_april2013_mod_1700_2016-5-6--21-50-1-916647/spearmint_april2013_mod.pkl',\n",
       "  2700: '/home/lisha/school/Projects/hyperband_nnet/hyperband2/mrbi/spearmint/spearmint_april2013_mod_2700_2016-5-6--22-1-42-427280/spearmint_april2013_mod.pkl',\n",
       "  3700: '/home/lisha/school/Projects/hyperband_nnet/hyperband2/mrbi/spearmint/spearmint_april2013_mod_3700_2016-5-6--22-16-46-197255/spearmint_april2013_mod.pkl',\n",
       "  4700: '/home/lisha/school/Projects/hyperband_nnet/hyperband2/mrbi/spearmint/spearmint_april2013_mod_4700_2016-5-6--22-19-26-102137/spearmint_april2013_mod.pkl',\n",
       "  5700: '/home/lisha/school/Projects/hyperband_nnet/hyperband2/mrbi/spearmint/spearmint_april2013_mod_5700_2016-5-6--22-22-5-907101/spearmint_april2013_mod.pkl'}}"
      ]
     },
     "execution_count": 4,
     "metadata": {},
     "output_type": "execute_result"
    }
   ],
   "source": [
    "results"
   ]
  },
  {
   "cell_type": "code",
   "execution_count": 5,
   "metadata": {
    "collapsed": false
   },
   "outputs": [],
   "source": [
    "test_error_append={}\n",
    "for s in ['smac','hyperopt','spearmint','random']:\n",
    "    subdir=dir+searchers[s]\n",
    "    os.chdir(subdir)\n",
    "    test_error_append[s]={}\n",
    "    for dirpath, dirnames, files in os.walk(subdir):\n",
    "        for f in fnmatch.filter(files, 'hyperband_run.log'):\n",
    "            index_filename= dirpath.index(filenames[s])+len(filenames[s])\n",
    "            seed=int(dirpath[index_filename+1:dirpath.find('_',index_filename+1)])\n",
    "            test_error_append[s][seed]=[]\n",
    "            with open(dirpath+\"/\"+f,'r') as file:\n",
    "                for x in file:\n",
    "                    search_str='Result for ParamILS: SAT'\n",
    "                    if x[:len(search_str)]==search_str:\n",
    "                        test_err=x[x.find('test_error,')+len('test_error, '):]\n",
    "                        test_error_append[s][seed].append(float(test_err))\n",
    "                        "
   ]
  },
  {
   "cell_type": "code",
   "execution_count": 6,
   "metadata": {
    "collapsed": false
   },
   "outputs": [],
   "source": [
    "seeds={'hyperband':3,'random':3, 'smac':100,'hyperopt': 100,'spearmint':100}\n",
    "data={}\n",
    "for s in results.keys():\n",
    "    data[s]={}\n",
    "    for seed in results[s].keys():\n",
    "        data[s][seed] = pickle.load(open(results[s][seed],'r'))\n",
    "    "
   ]
  },
  {
   "cell_type": "code",
   "execution_count": 7,
   "metadata": {
    "collapsed": false
   },
   "outputs": [],
   "source": [
    "def get_hyperband_results(dictionary):\n",
    "    data=dictionary[0]\n",
    "    hyperband_results=[]\n",
    "    val_err=1\n",
    "    test_err=1\n",
    "    times=[4, 8, 12, 16, 24,32,40,48,56]\n",
    "    #times=[4, 8, 12, 16, 20,28,36,44,52,60]\n",
    "    indices=[0,1,2,3,5,6,7,8,9]\n",
    "    for i in range(len(times)):\n",
    "        time=times[i]\n",
    "        index=indices[i]\n",
    "        if 1- data[index][1][0]['results'][-1][2] < val_err:\n",
    "            val_err = 1- data[index][1][0]['results'][-1][2]\n",
    "            test_err = 1-data[index][1][0]['results'][-1][3]\n",
    "        hyperband_results.append([time,val_err,test_err])\n",
    "    return hyperband_results"
   ]
  },
  {
   "cell_type": "code",
   "execution_count": 8,
   "metadata": {
    "collapsed": false
   },
   "outputs": [],
   "source": [
    "def get_random_results(data,speed=1):\n",
    "    #data=dictionary[0]\n",
    "    random_results=[]\n",
    "    n_arms=len(data)\n",
    "    val_err=1\n",
    "    test_err=1\n",
    "    \n",
    "    for i in range(n_arms):\n",
    "        time = (i+1)*1.0/speed\n",
    "        if data[i]['result']<val_err:\n",
    "            val_err = data[i]['result']\n",
    "            test_err = data[i]['test_error']\n",
    "        random_results.append([time,val_err,test_err])\n",
    "    return random_results"
   ]
  },
  {
   "cell_type": "code",
   "execution_count": 9,
   "metadata": {
    "collapsed": false
   },
   "outputs": [],
   "source": [
    "def minutes(time,start):\n",
    "    return (time-start)/60.\n",
    "def get_results_hpo(data):\n",
    "    output=[]\n",
    "    val_err=1\n",
    "    test_err=1\n",
    "    for i in range(len(data['cv_endtime'])):\n",
    "        dur = i+1\n",
    "        if data['trials'][i]['result'] < val_err:\n",
    "            val_err=data['trials'][i]['result']\n",
    "            test_err=data['trials'][i]['test_error']\n",
    "        output.append([dur,val_err,test_err])\n",
    "    return output\n",
    "min_results={}\n",
    "for s in ['random','hyperband','smac','hyperopt','spearmint']:\n",
    "    min_results[s]={}\n",
    "    for seed in data[s].keys():\n",
    "        #if s =='random':\n",
    "        #    min_results[s][seed]=get_random_results(data[s][seed][0],1)\n",
    "        if s =='hyperband':\n",
    "            min_results[s][seed]=get_hyperband_results(data[s][seed])\n",
    "        else:\n",
    "            min_results[s][seed]=get_results_hpo(data[s][seed])\n",
    "    \n",
    "        \n",
    "min_results['random_2x']={}\n",
    "for seed in range(len(data['random'].keys())/2):\n",
    "    seed1=data['random'].keys()[2*seed]\n",
    "    seed2=data['random'].keys()[2*seed+1]\n",
    "    random_data=data['random'][seed1]['trials']+data['random'][seed2]['trials']\n",
    "    min_results['random_2x'][seed1]=get_random_results(random_data,2)"
   ]
  },
  {
   "cell_type": "code",
   "execution_count": 10,
   "metadata": {
    "collapsed": false
   },
   "outputs": [],
   "source": [
    "import numpy\n",
    "def average_trials(s_data):\n",
    "    mean_data={}\n",
    "    for s in s_data.keys():\n",
    "        mean_data[s]=[]\n",
    "        min_iters=min([len(s_data[s][seed]) for seed in s_data[s].keys()])\n",
    "        for i in range(min_iters):\n",
    "            avg_r=numpy.nanmean([min_results[s][seed][i] for seed in min_results[s].keys()],axis=0)\n",
    "            max_r=numpy.nanmax([min_results[s][seed][i] for seed in min_results[s].keys()],axis=0)\n",
    "            max_r[1:]=max_r[1:]-avg_r[1:]\n",
    "            min_r=numpy.nanmin([min_results[s][seed][i] for seed in min_results[s].keys()],axis=0)\n",
    "            min_r[1:]=avg_r[1:]-min_r[1:]\n",
    "            mean_data[s].append([min_r,avg_r,max_r])\n",
    "    return mean_data"
   ]
  },
  {
   "cell_type": "code",
   "execution_count": 11,
   "metadata": {
    "collapsed": false
   },
   "outputs": [
    {
     "data": {
      "text/plain": [
       "[[array([ 1.      ,  0.4824  ,  0.491216]),\n",
       "  array([ 1.      ,  0.7624  ,  0.765976]),\n",
       "  array([ 1.      ,  0.1206  ,  0.122804])],\n",
       " [array([ 2.      ,  0.2765  ,  0.279388]),\n",
       "  array([ 2.      ,  0.5565  ,  0.554148]),\n",
       "  array([ 2.      ,  0.3265  ,  0.334632])],\n",
       " [array([ 3.      ,  0.2765  ,  0.279388]),\n",
       "  array([ 3.      ,  0.5565  ,  0.554148]),\n",
       "  array([ 3.      ,  0.3265  ,  0.334632])],\n",
       " [array([ 4.      ,  0.2765  ,  0.279388]),\n",
       "  array([ 4.      ,  0.5565  ,  0.554148]),\n",
       "  array([ 4.      ,  0.3265  ,  0.334632])],\n",
       " [array([ 5.      ,  0.2765  ,  0.279388]),\n",
       "  array([ 5.      ,  0.5565  ,  0.554148]),\n",
       "  array([ 5.      ,  0.3265  ,  0.334632])],\n",
       " [array([ 6.      ,  0.2765  ,  0.279388]),\n",
       "  array([ 6.      ,  0.5565  ,  0.554148]),\n",
       "  array([ 6.      ,  0.3265  ,  0.334632])],\n",
       " [array([ 7.     ,  0.1726 ,  0.17264]),\n",
       "  array([ 7.    ,  0.4526,  0.4474]),\n",
       "  array([ 7.     ,  0.4304 ,  0.44138])],\n",
       " [array([ 8.     ,  0.1594 ,  0.15752]),\n",
       "  array([ 8.     ,  0.4394 ,  0.43228]),\n",
       "  array([ 8.    ,  0.4436,  0.4565])],\n",
       " [array([ 9.      ,  0.1461  ,  0.142544]),\n",
       "  array([ 9.      ,  0.4261  ,  0.417304]),\n",
       "  array([ 9.      ,  0.3904  ,  0.396596])],\n",
       " [array([ 10.      ,   0.1461  ,   0.142544]),\n",
       "  array([ 10.      ,   0.4261  ,   0.417304]),\n",
       "  array([ 10.      ,   0.3904  ,   0.396596])],\n",
       " [array([ 11.      ,   0.1461  ,   0.142544]),\n",
       "  array([ 11.      ,   0.4261  ,   0.417304]),\n",
       "  array([ 11.      ,   0.3904  ,   0.396596])],\n",
       " [array([ 12.      ,   0.1461  ,   0.142544]),\n",
       "  array([ 12.      ,   0.4261  ,   0.417304]),\n",
       "  array([ 12.      ,   0.3904  ,   0.396596])],\n",
       " [array([ 13.      ,   0.1461  ,   0.142544]),\n",
       "  array([ 13.      ,   0.4261  ,   0.417304]),\n",
       "  array([ 13.      ,   0.3904  ,   0.396596])],\n",
       " [array([ 14.     ,   0.0499 ,   0.05054]),\n",
       "  array([ 14.    ,   0.3299,   0.3253]),\n",
       "  array([ 14.    ,   0.0411,   0.0463])],\n",
       " [array([ 15.     ,   0.0499 ,   0.05054]),\n",
       "  array([ 15.    ,   0.3299,   0.3253]),\n",
       "  array([ 15.    ,   0.0411,   0.0463])],\n",
       " [array([ 16.     ,   0.0499 ,   0.05054]),\n",
       "  array([ 16.    ,   0.3299,   0.3253]),\n",
       "  array([ 16.    ,   0.0411,   0.0463])],\n",
       " [array([ 17.      ,   0.055   ,   0.049884]),\n",
       "  array([ 17.      ,   0.3285  ,   0.324644]),\n",
       "  array([ 17.      ,   0.0425  ,   0.046956])],\n",
       " [array([ 18.      ,   0.055   ,   0.049884]),\n",
       "  array([ 18.      ,   0.3285  ,   0.324644]),\n",
       "  array([ 18.      ,   0.0425  ,   0.046956])],\n",
       " [array([ 19.      ,   0.055   ,   0.049884]),\n",
       "  array([ 19.      ,   0.3285  ,   0.324644]),\n",
       "  array([ 19.      ,   0.0425  ,   0.046956])],\n",
       " [array([ 20.      ,   0.055   ,   0.049884]),\n",
       "  array([ 20.      ,   0.3285  ,   0.324644]),\n",
       "  array([ 20.      ,   0.0425  ,   0.046956])],\n",
       " [array([ 21.      ,   0.055   ,   0.049884]),\n",
       "  array([ 21.      ,   0.3285  ,   0.324644]),\n",
       "  array([ 21.      ,   0.0425  ,   0.046956])],\n",
       " [array([ 22.      ,   0.055   ,   0.049884]),\n",
       "  array([ 22.      ,   0.3285  ,   0.324644]),\n",
       "  array([ 22.      ,   0.0425  ,   0.046956])],\n",
       " [array([ 23.      ,   0.055   ,   0.049884]),\n",
       "  array([ 23.      ,   0.3285  ,   0.324644]),\n",
       "  array([ 23.      ,   0.0425  ,   0.046956])],\n",
       " [array([ 24.      ,   0.055   ,   0.049884]),\n",
       "  array([ 24.      ,   0.3285  ,   0.324644]),\n",
       "  array([ 24.      ,   0.0425  ,   0.046956])],\n",
       " [array([ 25.      ,   0.055   ,   0.049884]),\n",
       "  array([ 25.      ,   0.3285  ,   0.324644]),\n",
       "  array([ 25.      ,   0.0425  ,   0.046956])],\n",
       " [array([ 26.      ,   0.0458  ,   0.041152]),\n",
       "  array([ 26.      ,   0.3193  ,   0.315912]),\n",
       "  array([ 26.      ,   0.0517  ,   0.055688])],\n",
       " [array([ 27.      ,   0.0458  ,   0.041152]),\n",
       "  array([ 27.      ,   0.3193  ,   0.315912]),\n",
       "  array([ 27.      ,   0.0517  ,   0.055688])],\n",
       " [array([ 28.     ,   0.0498 ,   0.04948]),\n",
       "  array([ 28.     ,   0.3183 ,   0.31356]),\n",
       "  array([ 28.     ,   0.0527 ,   0.05804])],\n",
       " [array([ 29.      ,   0.0488  ,   0.046956]),\n",
       "  array([ 29.      ,   0.3173  ,   0.311036]),\n",
       "  array([ 29.      ,   0.0487  ,   0.047944])],\n",
       " [array([ 30.      ,   0.0488  ,   0.046956]),\n",
       "  array([ 30.      ,   0.3173  ,   0.311036]),\n",
       "  array([ 30.      ,   0.0487  ,   0.047944])],\n",
       " [array([ 31.      ,   0.0488  ,   0.046956]),\n",
       "  array([ 31.      ,   0.3173  ,   0.311036]),\n",
       "  array([ 31.      ,   0.0487  ,   0.047944])],\n",
       " [array([ 32.      ,   0.0716  ,   0.055596]),\n",
       "  array([ 32.      ,   0.3116  ,   0.308876]),\n",
       "  array([ 32.      ,   0.0544  ,   0.050104])],\n",
       " [array([ 33.      ,   0.0704  ,   0.057132]),\n",
       "  array([ 33.      ,   0.3104  ,   0.310412]),\n",
       "  array([ 33.      ,   0.0556  ,   0.048568])],\n",
       " [array([ 34.      ,   0.0692  ,   0.052432]),\n",
       "  array([ 34.      ,   0.3092  ,   0.305712]),\n",
       "  array([ 34.      ,   0.0568  ,   0.053268])],\n",
       " [array([ 35.      ,   0.0692  ,   0.052432]),\n",
       "  array([ 35.      ,   0.3092  ,   0.305712]),\n",
       "  array([ 35.      ,   0.0568  ,   0.053268])],\n",
       " [array([ 36.      ,   0.0678  ,   0.050552]),\n",
       "  array([ 36.      ,   0.3078  ,   0.303832]),\n",
       "  array([ 36.      ,   0.0557  ,   0.051208])],\n",
       " [array([ 37.      ,   0.0678  ,   0.050552]),\n",
       "  array([ 37.      ,   0.3078  ,   0.303832]),\n",
       "  array([ 37.      ,   0.0557  ,   0.051208])],\n",
       " [array([  3.80000000e+01,   5.10000000e-02,   3.55000000e-02]),\n",
       "  array([ 38.     ,   0.291  ,   0.28878]),\n",
       "  array([ 38.    ,   0.068 ,   0.0608])],\n",
       " [array([  3.90000000e+01,   4.79000000e-02,   3.57040000e-02]),\n",
       "  array([ 39.      ,   0.2879  ,   0.288984]),\n",
       "  array([ 39.      ,   0.0711  ,   0.060596])],\n",
       " [array([  4.00000000e+01,   4.79000000e-02,   3.57040000e-02]),\n",
       "  array([ 40.      ,   0.2879  ,   0.288984]),\n",
       "  array([ 40.      ,   0.0711  ,   0.060596])],\n",
       " [array([  4.10000000e+01,   4.79000000e-02,   3.57040000e-02]),\n",
       "  array([ 41.      ,   0.2879  ,   0.288984]),\n",
       "  array([ 41.      ,   0.0711  ,   0.060596])],\n",
       " [array([  4.20000000e+01,   4.79000000e-02,   3.57040000e-02]),\n",
       "  array([ 42.      ,   0.2879  ,   0.288984]),\n",
       "  array([ 42.      ,   0.0711  ,   0.060596])],\n",
       " [array([  4.30000000e+01,   4.79000000e-02,   3.57040000e-02]),\n",
       "  array([ 43.      ,   0.2879  ,   0.288984]),\n",
       "  array([ 43.      ,   0.0711  ,   0.060596])],\n",
       " [array([  4.40000000e+01,   4.75000000e-02,   3.79560000e-02]),\n",
       "  array([ 44.      ,   0.2875  ,   0.291236]),\n",
       "  array([ 44.      ,   0.07    ,   0.058664])],\n",
       " [array([  4.50000000e+01,   4.75000000e-02,   3.79560000e-02]),\n",
       "  array([ 45.      ,   0.2875  ,   0.291236]),\n",
       "  array([ 45.      ,   0.07    ,   0.058664])],\n",
       " [array([  4.60000000e+01,   4.34000000e-02,   3.37560000e-02]),\n",
       "  array([ 46.      ,   0.2834  ,   0.287036]),\n",
       "  array([ 46.      ,   0.0741  ,   0.062864])],\n",
       " [array([  4.70000000e+01,   4.32000000e-02,   3.12600000e-02]),\n",
       "  array([ 47.     ,   0.2832 ,   0.28454]),\n",
       "  array([ 47.     ,   0.0743 ,   0.06536])],\n",
       " [array([  4.80000000e+01,   4.32000000e-02,   3.12600000e-02]),\n",
       "  array([ 48.     ,   0.2832 ,   0.28454]),\n",
       "  array([ 48.     ,   0.0743 ,   0.06536])],\n",
       " [array([  4.90000000e+01,   4.32000000e-02,   3.12600000e-02]),\n",
       "  array([ 49.     ,   0.2832 ,   0.28454]),\n",
       "  array([ 49.     ,   0.0743 ,   0.06536])],\n",
       " [array([  5.00000000e+01,   4.32000000e-02,   3.12600000e-02]),\n",
       "  array([ 50.     ,   0.2832 ,   0.28454]),\n",
       "  array([ 50.     ,   0.0743 ,   0.06536])],\n",
       " [array([  5.10000000e+01,   4.32000000e-02,   3.12600000e-02]),\n",
       "  array([ 51.     ,   0.2832 ,   0.28454]),\n",
       "  array([ 51.     ,   0.0743 ,   0.06536])],\n",
       " [array([  5.20000000e+01,   4.32000000e-02,   3.12600000e-02]),\n",
       "  array([ 52.     ,   0.2832 ,   0.28454]),\n",
       "  array([ 52.     ,   0.0743 ,   0.06536])],\n",
       " [array([  5.30000000e+01,   4.32000000e-02,   3.12600000e-02]),\n",
       "  array([ 53.     ,   0.2832 ,   0.28454]),\n",
       "  array([ 53.     ,   0.0743 ,   0.06536])],\n",
       " [array([  5.40000000e+01,   4.20000000e-02,   2.60000000e-02]),\n",
       "  array([ 54.     ,   0.282  ,   0.27928]),\n",
       "  array([ 54.     ,   0.0755 ,   0.07062])],\n",
       " [array([  5.50000000e+01,   4.20000000e-02,   2.60000000e-02]),\n",
       "  array([ 55.     ,   0.282  ,   0.27928]),\n",
       "  array([ 55.     ,   0.0755 ,   0.07062])],\n",
       " [array([  5.60000000e+01,   4.05000000e-02,   2.42160000e-02]),\n",
       "  array([ 56.      ,   0.2805  ,   0.277496]),\n",
       "  array([ 56.      ,   0.077   ,   0.072404])],\n",
       " [array([  5.70000000e+01,   4.05000000e-02,   2.42160000e-02]),\n",
       "  array([ 57.      ,   0.2805  ,   0.277496]),\n",
       "  array([ 57.      ,   0.077   ,   0.072404])],\n",
       " [array([  5.80000000e+01,   3.94000000e-02,   2.35000000e-02]),\n",
       "  array([ 58.     ,   0.2794 ,   0.27678]),\n",
       "  array([ 58.     ,   0.0781 ,   0.07312])],\n",
       " [array([  5.90000000e+01,   3.94000000e-02,   2.35000000e-02]),\n",
       "  array([ 59.     ,   0.2794 ,   0.27678]),\n",
       "  array([ 59.     ,   0.0781 ,   0.07312])],\n",
       " [array([  6.00000000e+01,   3.94000000e-02,   2.35000000e-02]),\n",
       "  array([ 60.     ,   0.2794 ,   0.27678]),\n",
       "  array([ 60.     ,   0.0781 ,   0.07312])],\n",
       " [array([  6.10000000e+01,   3.94000000e-02,   2.35000000e-02]),\n",
       "  array([ 61.     ,   0.2794 ,   0.27678]),\n",
       "  array([ 61.     ,   0.0781 ,   0.07312])],\n",
       " [array([  6.20000000e+01,   3.94000000e-02,   2.35000000e-02]),\n",
       "  array([ 62.     ,   0.2794 ,   0.27678]),\n",
       "  array([ 62.     ,   0.0781 ,   0.07312])],\n",
       " [array([  6.30000000e+01,   3.67000000e-02,   2.72800000e-02]),\n",
       "  array([ 63.     ,   0.2767 ,   0.27512]),\n",
       "  array([ 63.     ,   0.0808 ,   0.07478])],\n",
       " [array([  6.40000000e+01,   3.67000000e-02,   2.72800000e-02]),\n",
       "  array([ 64.     ,   0.2767 ,   0.27512]),\n",
       "  array([ 64.     ,   0.0808 ,   0.07478])]]"
      ]
     },
     "execution_count": 11,
     "metadata": {},
     "output_type": "execute_result"
    }
   ],
   "source": [
    "mean_data=average_trials(min_results)\n",
    "mean_data['spearmint']"
   ]
  },
  {
   "cell_type": "code",
   "execution_count": 12,
   "metadata": {
    "collapsed": false
   },
   "outputs": [],
   "source": [
    "import matplotlib\n",
    "from matplotlib.backends.backend_pdf import PdfPages\n",
    "from matplotlib import pyplot as plt\n"
   ]
  },
  {
   "cell_type": "code",
   "execution_count": 42,
   "metadata": {
    "collapsed": false
   },
   "outputs": [
    {
     "ename": "KeyError",
     "evalue": "100",
     "output_type": "error",
     "traceback": [
      "\u001b[1;31m---------------------------------------------------------------------------\u001b[0m",
      "\u001b[1;31mKeyError\u001b[0m                                  Traceback (most recent call last)",
      "\u001b[1;32m<ipython-input-42-4a90e3cef9e7>\u001b[0m in \u001b[0;36m<module>\u001b[1;34m()\u001b[0m\n\u001b[0;32m     23\u001b[0m \u001b[0mplt\u001b[0m\u001b[1;33m.\u001b[0m\u001b[0mfigure\u001b[0m\u001b[1;33m(\u001b[0m\u001b[0mfigsize\u001b[0m\u001b[1;33m=\u001b[0m\u001b[1;33m(\u001b[0m\u001b[1;36m11\u001b[0m\u001b[1;33m,\u001b[0m\u001b[1;36m8.5\u001b[0m\u001b[1;33m)\u001b[0m\u001b[1;33m)\u001b[0m\u001b[1;33m\u001b[0m\u001b[0m\n\u001b[0;32m     24\u001b[0m \u001b[0mplt\u001b[0m\u001b[1;33m.\u001b[0m\u001b[0msubplot\u001b[0m\u001b[1;33m(\u001b[0m\u001b[1;36m121\u001b[0m\u001b[1;33m)\u001b[0m\u001b[1;33m\u001b[0m\u001b[0m\n\u001b[1;32m---> 25\u001b[1;33m \u001b[0mresults_plot\u001b[0m\u001b[1;33m(\u001b[0m\u001b[1;36m1\u001b[0m\u001b[1;33m)\u001b[0m\u001b[1;33m\u001b[0m\u001b[0m\n\u001b[0m\u001b[0;32m     26\u001b[0m \u001b[0mplt\u001b[0m\u001b[1;33m.\u001b[0m\u001b[0msubplot\u001b[0m\u001b[1;33m(\u001b[0m\u001b[1;36m122\u001b[0m\u001b[1;33m)\u001b[0m\u001b[1;33m\u001b[0m\u001b[0m\n\u001b[0;32m     27\u001b[0m \u001b[0mresults_plot\u001b[0m\u001b[1;33m(\u001b[0m\u001b[1;36m2\u001b[0m\u001b[1;33m)\u001b[0m\u001b[1;33m\u001b[0m\u001b[0m\n",
      "\u001b[1;32m<ipython-input-42-4a90e3cef9e7>\u001b[0m in \u001b[0;36mresults_plot\u001b[1;34m(index)\u001b[0m\n\u001b[0;32m      9\u001b[0m         \u001b[1;32mfor\u001b[0m \u001b[0mseed_ind\u001b[0m \u001b[1;32min\u001b[0m \u001b[0mrange\u001b[0m\u001b[1;33m(\u001b[0m\u001b[1;36m1\u001b[0m\u001b[1;33m)\u001b[0m\u001b[1;33m:\u001b[0m\u001b[1;33m\u001b[0m\u001b[0m\n\u001b[0;32m     10\u001b[0m             \u001b[0mseed\u001b[0m\u001b[1;33m=\u001b[0m\u001b[0mseeds\u001b[0m\u001b[1;33m[\u001b[0m\u001b[0ms\u001b[0m\u001b[1;33m]\u001b[0m\u001b[1;33m\u001b[0m\u001b[0m\n\u001b[1;32m---> 11\u001b[1;33m             \u001b[1;32mif\u001b[0m \u001b[0mmin_results\u001b[0m\u001b[1;33m[\u001b[0m\u001b[0ms\u001b[0m\u001b[1;33m]\u001b[0m\u001b[1;33m[\u001b[0m\u001b[0mseed\u001b[0m\u001b[1;33m]\u001b[0m\u001b[1;33m[\u001b[0m\u001b[1;36m0\u001b[0m\u001b[1;33m]\u001b[0m\u001b[1;33m[\u001b[0m\u001b[1;36m0\u001b[0m\u001b[1;33m]\u001b[0m\u001b[1;33m>\u001b[0m\u001b[1;36m0\u001b[0m\u001b[1;33m:\u001b[0m\u001b[1;33m\u001b[0m\u001b[0m\n\u001b[0m\u001b[0;32m     12\u001b[0m                 \u001b[0mmin_results\u001b[0m\u001b[1;33m[\u001b[0m\u001b[0ms\u001b[0m\u001b[1;33m]\u001b[0m\u001b[1;33m[\u001b[0m\u001b[0mseed\u001b[0m\u001b[1;33m]\u001b[0m\u001b[1;33m.\u001b[0m\u001b[0minsert\u001b[0m\u001b[1;33m(\u001b[0m\u001b[1;36m0\u001b[0m\u001b[1;33m,\u001b[0m\u001b[1;33m[\u001b[0m\u001b[1;36m1\u001b[0m\u001b[1;33m,\u001b[0m\u001b[1;36m1\u001b[0m\u001b[1;33m,\u001b[0m\u001b[1;36m1\u001b[0m\u001b[1;33m]\u001b[0m\u001b[1;33m)\u001b[0m\u001b[1;33m\u001b[0m\u001b[0m\n\u001b[0;32m     13\u001b[0m             \u001b[1;32mif\u001b[0m \u001b[0mseed_ind\u001b[0m\u001b[1;33m==\u001b[0m\u001b[1;36m0\u001b[0m\u001b[1;33m:\u001b[0m\u001b[1;33m\u001b[0m\u001b[0m\n",
      "\u001b[1;31mKeyError\u001b[0m: 100"
     ]
    }
   ],
   "source": [
    "colors={'hyperband':'y','smac':'r','hyperopt':'b','random':'g','spearmint':'c','random_2x':'g'}\n",
    "seeds={'hyperband':3,'random':3, 'smac':100,'hyperopt': 100,'spearmint':100}\n",
    "def results_plot(index):\n",
    "    for s in ['smac','hyperopt','hyperband','random_2x','spearmint']:\n",
    "        if index==2:\n",
    "            axis_label='Test Error'\n",
    "        else:\n",
    "            axis_label='Val Error'\n",
    "        for seed_ind in range(1):\n",
    "            seed=seeds[s]\n",
    "            if min_results[s][seed][0][0]>0:\n",
    "                min_results[s][seed].insert(0,[1,1,1])\n",
    "            if seed_ind==0:\n",
    "                plt.plot([t[0] for t in min_results[s][seed]],[t[index] for t in min_results[s][seed]],color=colors[s])\n",
    "            else:\n",
    "                plt.plot([t[0] for t in min_results[s][seed]],[t[index] for t in min_results[s][seed]],color=colors[s],\n",
    "                         label=s)\n",
    "        plt.legend()\n",
    "        plt.xlabel('# Arms trained to Completion')\n",
    "        plt.ylabel(axis_label)\n",
    "    #plt.ticklabel_format(style='sci', axis='x', scilimits=(0,0))\n",
    "pdf=PdfPages('../mrbi_error_trial2.pdf')\n",
    "plt.figure(figsize=(11,8.5))\n",
    "plt.subplot(121)\n",
    "results_plot(1)\n",
    "plt.subplot(122)\n",
    "results_plot(2)\n",
    "plt.suptitle('Validation and Test Error on Cifar10')\n",
    "pdf.savefig()\n",
    "plt.close()\n",
    "pdf.close()\n",
    "#plt.show()\n"
   ]
  },
  {
   "cell_type": "code",
   "execution_count": 18,
   "metadata": {
    "collapsed": false
   },
   "outputs": [],
   "source": [
    "colors={'hyperband':'y','smac':'r','hyperopt':'b','random':'g','spearmint':'c','random_2x':'g'}\n",
    "seeds={'hyperband':3,'random':3, 'smac':100,'hyperopt': 100,'spearmint':100}\n",
    "labels={'hyperband':'hyperband','smac':'smac','hyperopt':'TPE','random':'random','spearmint':'spearmint','random_2x':'random_2x'}\n",
    "def results_plot(index):\n",
    "    matplotlib.rcParams.update({'font.size': 16})\n",
    "    line_width=2\n",
    "    edge_width=2\n",
    "    shift = 0.3\n",
    "    for s in ['random_2x','smac','hyperopt','hyperband','spearmint']:\n",
    "        if index==2:\n",
    "            axis_label='Average Test Error'\n",
    "        else:\n",
    "            axis_label='Average Val Error'\n",
    "        if s == 'hyperband':\n",
    "            #plt.errorbar([i[0][0] for i in mean_data[s]],[i[1][index] for i in mean_data[s]],color=colors[s],\n",
    "            #              yerr=[[i[0][index] for i in mean_data[s]],[i[2][index] for i in mean_data[s]]],\n",
    "            #         label=s,linewidth=line_width,marker='x',markeredgewidth=edge_width,elinewidth=0.5,capthick=0.5,ecolor='w')\n",
    "            plt.errorbar([i[0][0] for i in mean_data[s]],[i[1][index] for i in mean_data[s]],color=colors[s],                          \n",
    "                     label=s,linewidth=line_width,marker='x',markeredgewidth=edge_width)\n",
    "            #+' # trials = '+str(len(min_results[s].keys()))\n",
    "            #x=[i[0][0] for i in mean_data[s]]\n",
    "            #y=numpy.array([i[1][index] for i in mean_data[s]])\n",
    "            #y_min=y-numpy.array([i[0][index] for i in mean_data[s]])\n",
    "            #y_max=y+numpy.array([i[2][index] for i in mean_data[s]])\n",
    "            #plt.plot(x,y,color=colors[s],\n",
    "            #              label=s+' # trials = '+str(len(min_results[s].keys())))\n",
    "            #plt.fill_between(x,y_min,y_max,alpha=0.5,edgecolor='y',facecolor='y')\n",
    "        elif s=='random_2x':\n",
    "            #plt.errorbar([row[0][0] for row in mean_data[s]],[row[1][index] for row in mean_data[s]],color=colors[s],errorevery=8,\n",
    "            #              yerr=[[row[0][index] for row in mean_data[s]],\n",
    "            #                    [row[2][index] for row in mean_data[s]]],label=s,linewidth=line_width,marker='+',markeredgewidth=edge_width,elinewidth=0.5,capthick=0.5,markevery=4,ecolor='w')\n",
    "            plt.plot([row[0][0] for row in mean_data[s]],[row[1][index] for row in mean_data[s]],color=colors[s],\n",
    "                          label=s,linewidth=line_width,marker='+',markeredgewidth=edge_width,markevery=4)\n",
    "        else:\n",
    "            #plt.plot([i[0][0] for i in mean_data[s]],[i[1][index] for i in mean_data[s]],color=colors[s],                          \n",
    "            #         label=s+' # trials = '+str(len(min_results[s].keys())))\n",
    "            #x=[row[0][0] for row in mean_data[s]]\n",
    "            #y=numpy.array([row[1][index] for row in mean_data[s]])\n",
    "            #y_min=y-numpy.array([row[0][index] for row in mean_data[s]])\n",
    "            #y_max=y+numpy.array([row[2][index] for row in mean_data[s]])\n",
    "            #plt.errorbar(numpy.array([row[0][0]+shift for row in mean_data[s]]),[row[1][index] for row in mean_data[s]],color=colors[s],errorevery=4,\n",
    "            #              yerr=[[row[0][index] for row in mean_data[s]],\n",
    "            #                    [row[2][index] for row in mean_data[s]]],label=s,linewidth=line_width,elinewidth=0.5,capthick=0.5,ecolor='w')\n",
    "            plt.errorbar(numpy.array([row[0][0] for row in mean_data[s]]),[row[1][index] for row in mean_data[s]],color=colors[s],\n",
    "                          label=labels[s],linewidth=line_width)\n",
    "            shift+=0.3\n",
    "    plt.legend(ncol=2,columnspacing=0.2,fancybox=True, framealpha=0.75)\n",
    "    plt.xlim([3,57])\n",
    "    plt.ylim([0.225,0.375])\n",
    "    plt.xlabel('Multiple of Max Iter Used')\n",
    "    plt.ylabel(axis_label)\n",
    "    #plt.ticklabel_format(style='sci', axis='x', scilimits=(0,0))\n",
    "pdf=PdfPages('../MRBI_error_avg.pdf')\n",
    "plt.figure(figsize=(6.5,5.5))\n",
    "#plt.subplot(121)\n",
    "#results_plot(1)\n",
    "#plt.subplot(122)\n",
    "results_plot(2)\n",
    "#plt.suptitle('Test Error on CIFAR-10')\n",
    "pdf.savefig()\n",
    "plt.close()\n",
    "pdf.close()\n",
    "#plt.show()\n"
   ]
  },
  {
   "cell_type": "code",
   "execution_count": 299,
   "metadata": {
    "collapsed": false
   },
   "outputs": [
    {
     "ename": "NameError",
     "evalue": "name 'shift' is not defined",
     "output_type": "error",
     "traceback": [
      "\u001b[1;31m---------------------------------------------------------------------------\u001b[0m",
      "\u001b[1;31mNameError\u001b[0m                                 Traceback (most recent call last)",
      "\u001b[1;32m<ipython-input-299-941a82a3b8a9>\u001b[0m in \u001b[0;36m<module>\u001b[1;34m()\u001b[0m\n\u001b[1;32m----> 1\u001b[1;33m \u001b[0mshift\u001b[0m\u001b[1;33m\u001b[0m\u001b[0m\n\u001b[0m",
      "\u001b[1;31mNameError\u001b[0m: name 'shift' is not defined"
     ]
    }
   ],
   "source": [
    "shift"
   ]
  },
  {
   "cell_type": "code",
   "execution_count": 171,
   "metadata": {
    "collapsed": false
   },
   "outputs": [
    {
     "data": {
      "text/plain": [
       "[(array(0.7599999904632568, dtype=float32),\n",
       "  array(0.8199999928474426, dtype=float32)),\n",
       " (array(0.7099999785423279, dtype=float32), array(0.75, dtype=float32)),\n",
       " (array(0.7099999785423279, dtype=float32),\n",
       "  array(0.8100000023841858, dtype=float32)),\n",
       " (array(0.699999988079071, dtype=float32),\n",
       "  array(0.7799999713897705, dtype=float32)),\n",
       " (array(0.699999988079071, dtype=float32),\n",
       "  array(0.7099999785423279, dtype=float32)),\n",
       " (array(0.7799999713897705, dtype=float32),\n",
       "  array(0.8299999833106995, dtype=float32)),\n",
       " (array(0.6800000071525574, dtype=float32),\n",
       "  array(0.7900000214576721, dtype=float32)),\n",
       " (array(0.699999988079071, dtype=float32),\n",
       "  array(0.7900000214576721, dtype=float32)),\n",
       " (array(0.7900000214576721, dtype=float32),\n",
       "  array(0.8299999833106995, dtype=float32))]"
      ]
     },
     "execution_count": 171,
     "metadata": {},
     "output_type": "execute_result"
    }
   ],
   "source": [
    "[(max([i[2] for i in data['random'][s][0]]),max([i[3] for i in data['random'][s][0]])) for s in data['random'].keys()]"
   ]
  },
  {
   "cell_type": "code",
   "execution_count": null,
   "metadata": {
    "collapsed": true
   },
   "outputs": [],
   "source": []
  }
 ],
 "metadata": {
  "kernelspec": {
   "display_name": "Python 2",
   "language": "python",
   "name": "python2"
  },
  "language_info": {
   "codemirror_mode": {
    "name": "ipython",
    "version": 2
   },
   "file_extension": ".py",
   "mimetype": "text/x-python",
   "name": "python",
   "nbconvert_exporter": "python",
   "pygments_lexer": "ipython2",
   "version": "2.7.10"
  }
 },
 "nbformat": 4,
 "nbformat_minor": 0
}
