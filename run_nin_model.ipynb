{
 "cells": [
  {
   "cell_type": "code",
   "execution_count": 2,
   "metadata": {
    "collapsed": false
   },
   "outputs": [],
   "source": [
    "import numpy\n",
    "import pickle\n",
    "import caffe\n",
    "import os\n",
    "from networkin.nin_helper import nin_conv"
   ]
  },
  {
   "cell_type": "code",
   "execution_count": 62,
   "metadata": {
    "collapsed": false
   },
   "outputs": [],
   "source": [
    "cwd='/home/lisha/school/Projects/hyperband_nnet/hyperband2'\n",
    "f_dir=cwd+\"/networkin/cifar100/small_search/hyperband_constant/trial22000\"\n",
    "data=pickle.load(open(f_dir+'/results.pkl','rb'))"
   ]
  },
  {
   "cell_type": "code",
   "execution_count": 13,
   "metadata": {
    "collapsed": false
   },
   "outputs": [],
   "source": [
    "index=numpy.nanargmin([t['test_error'] for t in data['trials']])"
   ]
  },
  {
   "cell_type": "code",
   "execution_count": 14,
   "metadata": {
    "collapsed": false
   },
   "outputs": [],
   "source": [
    "params=data['trials'][index]['params']"
   ]
  },
  {
   "cell_type": "code",
   "execution_count": 63,
   "metadata": {
    "collapsed": false
   },
   "outputs": [],
   "source": [
    "params=data[0][0][1][0]"
   ]
  },
  {
   "cell_type": "code",
   "execution_count": 64,
   "metadata": {
    "collapsed": false
   },
   "outputs": [],
   "source": [
    "for k in params.keys():\n",
    "    try:\n",
    "        float(params[k])\n",
    "        params[key]=float(params[k])\n",
    "    except:\n",
    "        params.pop(k)\n",
    "        continue"
   ]
  },
  {
   "cell_type": "code",
   "execution_count": 65,
   "metadata": {
    "collapsed": false
   },
   "outputs": [
    {
     "data": {
      "text/plain": [
       "{'batch_size': 100,\n",
       " 'dropout1': 0.54855868496050042,\n",
       " 'dropout2': 0.59699788975862855,\n",
       " 'learning_rate1': 0.022031824255626123,\n",
       " 'learning_rate2': 0.080677893924392091,\n",
       " 'learning_rate3': 0.10904123209355222,\n",
       " 'lr_step': 2,\n",
       " 'momentum': 0.8521609555854408,\n",
       " 'n_iter': 60000,\n",
       " 'ropout1': 0.5485586849605004,\n",
       " 'w_init1': 0.065931187907095345,\n",
       " 'w_init2': 0.18991315246023072,\n",
       " 'w_init3': 0.021806579593017211,\n",
       " 'weight_cost1': 0.00045898477358716829,\n",
       " 'weight_cost2': 0.00021495034655196447,\n",
       " 'weight_cost3': 0.0012956728043416368}"
      ]
     },
     "execution_count": 65,
     "metadata": {},
     "output_type": "execute_result"
    }
   ],
   "source": [
    "params"
   ]
  },
  {
   "cell_type": "code",
   "execution_count": 66,
   "metadata": {
    "collapsed": false
   },
   "outputs": [],
   "source": [
    "model=nin_conv('cifar100','/home/lisha/school/HPOlib/benchmarks/networkin/cifar100',device=0,seed=1)"
   ]
  },
  {
   "cell_type": "code",
   "execution_count": 67,
   "metadata": {
    "collapsed": false
   },
   "outputs": [],
   "source": [
    "arms=model.generate_arms(1,f_dir,params,default=True)"
   ]
  },
  {
   "cell_type": "code",
   "execution_count": 25,
   "metadata": {
    "collapsed": false
   },
   "outputs": [
    {
     "data": {
      "text/plain": [
       "{'duration': 4027.3600000000001,\n",
       " 'instance_durations': array([ 4027.36]),\n",
       " 'instance_results': array([ 0.3672]),\n",
       " 'instance_status': array([3]),\n",
       " 'instance_test_error': array([ 0.3689]),\n",
       " 'instance_train_size': array([ nan]),\n",
       " 'params': OrderedDict([('dropout1', 0.5900591697823134), ('dropout2', 0.49830665282836134), ('learning_rate1', 0.015256803949892398), ('learning_rate2', 0.013268161660672345), ('learning_rate3', 0.12842960382796725), ('lr_step', 3.0), ('momentum', 0.9203643968601779), ('w_init1', 0.0660629782852576), ('w_init2', 0.0552568199099099), ('w_init3', 0.0353057303534412), ('weight_cost1', 2.202982674092157e-05), ('weight_cost2', 0.0004854195683332779), ('weight_cost3', 0.0006102004633361558)]),\n",
       " 'result': 0.36720000000000003,\n",
       " 'status': 3,\n",
       " 'std': 0.0,\n",
       " 'test_error': 0.36890000000000001,\n",
       " 'train_size': nan}"
      ]
     },
     "execution_count": 25,
     "metadata": {},
     "output_type": "execute_result"
    }
   ],
   "source": [
    "data['trials'][index]"
   ]
  },
  {
   "cell_type": "code",
   "execution_count": 26,
   "metadata": {
    "collapsed": false
   },
   "outputs": [
    {
     "data": {
      "text/plain": [
       "15"
      ]
     },
     "execution_count": 26,
     "metadata": {},
     "output_type": "execute_result"
    }
   ],
   "source": [
    "index"
   ]
  },
  {
   "cell_type": "code",
   "execution_count": 2,
   "metadata": {
    "collapsed": true
   },
   "outputs": [],
   "source": [
    "instances=['ec2-54-173-128-114.compute-1.amazonaws.com',\n",
    "'ec2-54-152-200-186.compute-1.amazonaws.com',\n",
    "'ec2-52-91-105-235.compute-1.amazonaws.com',\n",
    "'ec2-52-91-30-121.compute-1.amazonaws.com',\n",
    "'ec2-54-86-131-236.compute-1.amazonaws.com',\n",
    "'ec2-52-91-236-184.compute-1.amazonaws.com',\n",
    "'ec2-54-164-147-140.compute-1.amazonaws.com',\n",
    "'ec2-54-88-80-41.compute-1.amazonaws.com',\n",
    "'ec2-54-88-81-189.compute-1.amazonaws.com',\n",
    "'ec2-54-164-112-64.compute-1.amazonaws.com']"
   ]
  },
  {
   "cell_type": "code",
   "execution_count": 34,
   "metadata": {
    "collapsed": true
   },
   "outputs": [],
   "source": [
    "seeds=range(23000,30001,1000)"
   ]
  },
  {
   "cell_type": "code",
   "execution_count": 35,
   "metadata": {
    "collapsed": true
   },
   "outputs": [],
   "source": [
    "commands=[]\n",
    "for i in range(8):\n",
    "    commands.append('ssh -i ../../../../.ssh/lisha_kevin_key.pem ubuntu@'+instances[i]+' screen -dm sudo python RoBO/examples/example_fmin_fabolas.py '+str(seeds[i]))"
   ]
  },
  {
   "cell_type": "code",
   "execution_count": 17,
   "metadata": {
    "collapsed": false
   },
   "outputs": [],
   "source": [
    "commands=[]\n",
    "for i in range(10):\n",
    "    commands.append('ssh -i $HOME/.ssh/lisha_kevin_key.pem ubuntu@'+instances[i]+' sudo chmod -R 755 /home/ubuntu/RoBO/examples/seed*')\n",
    "    commands.append('ssh -i $HOME/.ssh/lisha_kevin_key.pem ubuntu@'+instances[i]+' sudo chmod 666 /home/ubuntu/RoBO/examples/seed*/*')\n",
    "    commands.append('scp -i $HOME/.ssh/lisha_kevin_key.pem -r ubuntu@'+instances[i]+\":/home/ubuntu/RoBO/examples/seed* ./\")"
   ]
  },
  {
   "cell_type": "code",
   "execution_count": 18,
   "metadata": {
    "collapsed": false
   },
   "outputs": [],
   "source": [
    "thefile=open('mnist_svm/full_fabolas/mod_fabo_grab_files.sh','wb')\n",
    "for item in commands:\n",
    "    thefile.write(\"%s\\n\" % item)"
   ]
  },
  {
   "cell_type": "code",
   "execution_count": 19,
   "metadata": {
    "collapsed": true
   },
   "outputs": [],
   "source": [
    "thefile.close()"
   ]
  },
  {
   "cell_type": "code",
   "execution_count": null,
   "metadata": {
    "collapsed": true
   },
   "outputs": [],
   "source": []
  }
 ],
 "metadata": {
  "kernelspec": {
   "display_name": "Python 2",
   "language": "python",
   "name": "python2"
  },
  "language_info": {
   "codemirror_mode": {
    "name": "ipython",
    "version": 2
   },
   "file_extension": ".py",
   "mimetype": "text/x-python",
   "name": "python",
   "nbconvert_exporter": "python",
   "pygments_lexer": "ipython2",
   "version": "2.7.10"
  }
 },
 "nbformat": 4,
 "nbformat_minor": 0
}
