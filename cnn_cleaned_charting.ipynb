{
 "cells": [
  {
   "cell_type": "code",
   "execution_count": 1,
   "metadata": {
    "collapsed": true
   },
   "outputs": [],
   "source": [
    "import pickle\n",
    "import glob, os\n",
    "import fnmatch\n",
    "import numpy\n",
    "import matplotlib\n",
    "from matplotlib.backends.backend_pdf import PdfPages\n",
    "from matplotlib import pyplot as plt"
   ]
  },
  {
   "cell_type": "code",
   "execution_count": 8,
   "metadata": {
    "collapsed": true
   },
   "outputs": [],
   "source": [
    "def average_trials(min_results):\n",
    "    mean_data={}\n",
    "    for s in min_results.keys():\n",
    "        mean_data[s]=[]\n",
    "        min_iters=min([len(min_results[s][seed]) for seed in min_results[s].keys()])\n",
    "        for i in range(min_iters):\n",
    "            avg_r=numpy.nanmean([min_results[s][seed][i] for seed in min_results[s].keys()],axis=0)\n",
    "            max_r=numpy.nanmax([min_results[s][seed][i] for seed in min_results[s].keys()],axis=0)\n",
    "            max_r[1:]=max_r[1:]-avg_r[1:]\n",
    "            min_r=numpy.nanmin([min_results[s][seed][i] for seed in min_results[s].keys()],axis=0)\n",
    "            min_r[1:]=avg_r[1:]-min_r[1:]\n",
    "            mean_data[s].append([min_r,avg_r,max_r])\n",
    "    return mean_data"
   ]
  },
  {
   "cell_type": "code",
   "execution_count": 3,
   "metadata": {
    "collapsed": true
   },
   "outputs": [],
   "source": [
    "colors={'hyperband':'y','smac':'r','hyperopt':'b','random':'g','spearmint':'c','random_2x':'g','smac_early':'r'}\n",
    "seeds={'hyperband':3,'random':3, 'smac':100,'hyperopt': 100,'spearmint':100}\n",
    "labels={'hyperband':'hyperband','smac':'smac','hyperopt':'TPE','random':'random','spearmint':'spearmint','random_2x':'random_2x','smac_early':'smac_early'}\n",
    "def results_plot(mean_data,index,error_bar):\n",
    "    matplotlib.rcParams.update({'font.size': 16})\n",
    "    line_width=2\n",
    "    edge_width=2\n",
    "    shift = 0.3\n",
    "    #for s in ['random_2x','smac','smac_early','hyperopt','hyperband','spearmint']:\n",
    "    for s in mean_data.keys():\n",
    "        if index==2:\n",
    "            axis_label='Average Test Error'\n",
    "        else:\n",
    "            axis_label='Average Val Error'\n",
    "        if s == 'hyperband':\n",
    "            if error_bar:\n",
    "                plt.errorbar([i[0][0] for i in mean_data[s]],[i[1][index] for i in mean_data[s]],color=colors[s],\n",
    "                              yerr=[[i[0][index] for i in mean_data[s]],[i[2][index] for i in mean_data[s]]],\n",
    "                         label=labels[s],linewidth=line_width,marker='x',markeredgewidth=edge_width,elinewidth=0.5,capthick=0.5)\n",
    "            else:\n",
    "                plt.plot([i[0][0] for i in mean_data[s]],[i[1][index] for i in mean_data[s]],color=colors[s],                          \n",
    "                     label=labels[s],linewidth=line_width,marker='x',markeredgewidth=edge_width)\n",
    "\n",
    "        elif s=='random_2x':\n",
    "            if error_bar:\n",
    "                plt.errorbar([row[0][0] for row in mean_data[s]],[row[1][index] for row in mean_data[s]],color=colors[s],errorevery=8,\n",
    "                          yerr=[[row[0][index] for row in mean_data[s]],\n",
    "                                [row[2][index] for row in mean_data[s]]],label=labels[s],linewidth=line_width,marker='+',markeredgewidth=edge_width,elinewidth=0.5,capthick=0.5,markevery=4)\n",
    "            else:\n",
    "                plt.plot([row[0][0] for row in mean_data[s]],[row[1][index] for row in mean_data[s]],color=colors[s],\n",
    "                          label=labels[s],linewidth=line_width,marker='+',markeredgewidth=edge_width,markevery=4)\n",
    "        else:\n",
    "\n",
    "            if error_bar:\n",
    "                plt.errorbar(numpy.array([row[0][0]+shift for row in mean_data[s]]),[row[1][index] for row in mean_data[s]],color=colors[s],errorevery=4,\n",
    "                          yerr=[[row[0][index] for row in mean_data[s]],\n",
    "                                [row[2][index] for row in mean_data[s]]],label=labels[s],linewidth=line_width,elinewidth=0.5,capthick=0.5)\n",
    "            else:\n",
    "                plt.plot(numpy.array([row[0][0] for row in mean_data[s]]),[row[1][index] for row in mean_data[s]],color=colors[s],\n",
    "                          label=labels[s],linewidth=line_width)\n",
    "            shift+=0.3\n",
    "    plt.legend(ncol=2,columnspacing=0.2,fancybox=True, framealpha=0.75)\n",
    "    plt.xlim([0,57])\n",
    "    #plt.ylim([0.175,0.325])\n",
    "    plt.xlabel('Multiple of Max Iter Used')\n",
    "    plt.ylabel(axis_label)\n"
   ]
  },
  {
   "cell_type": "code",
   "execution_count": 11,
   "metadata": {
    "collapsed": false
   },
   "outputs": [],
   "source": [
    "cifar_data =pickle.load(open('./cifar10/cifar_data.pkl','r'))\n",
    "mrbi_data =pickle.load(open('./mrbi/mrbi_data.pkl','r'))\n",
    "svhn_data =pickle.load(open('./svhn/svhn_data.pkl','r'))\n",
    "cifar_mean=average_trials(cifar_data)\n",
    "mrbi_mean=average_trials(mrbi_data)\n",
    "svhn_mean=average_trials(svhn_data)\n",
    "pdf=PdfPages('./error_avg_test.pdf')\n",
    "plt.figure(figsize=(6.5,5.5))\n",
    "results_plot(cifar_mean, 2,1)\n",
    "plt.ylim(0.175,0.325)\n",
    "plt.title('CIFAR-10 Test Error')\n",
    "pdf.savefig()\n",
    "plt.close()\n",
    "plt.figure(figsize=(6.5,5.5))\n",
    "results_plot(mrbi_mean, 2,1)\n",
    "plt.ylim(0.22,0.37)\n",
    "plt.title('MRBI Test Error')\n",
    "pdf.savefig()\n",
    "plt.close()\n",
    "plt.figure(figsize=(6.5,5.5))\n",
    "results_plot(svhn_mean, 2,1)\n",
    "plt.ylim(0.025,0.175)\n",
    "plt.title('SVHN Test Error')\n",
    "pdf.savefig()\n",
    "plt.close()\n",
    "pdf.close()\n",
    "\n"
   ]
  },
  {
   "cell_type": "code",
   "execution_count": null,
   "metadata": {
    "collapsed": true
   },
   "outputs": [],
   "source": []
  }
 ],
 "metadata": {
  "kernelspec": {
   "display_name": "Python 2",
   "language": "python",
   "name": "python2"
  },
  "language_info": {
   "codemirror_mode": {
    "name": "ipython",
    "version": 2
   },
   "file_extension": ".py",
   "mimetype": "text/x-python",
   "name": "python",
   "nbconvert_exporter": "python",
   "pygments_lexer": "ipython2",
   "version": "2.7.10"
  }
 },
 "nbformat": 4,
 "nbformat_minor": 0
}
