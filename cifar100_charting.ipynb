{
 "cells": [
  {
   "cell_type": "code",
   "execution_count": 31,
   "metadata": {
    "collapsed": true
   },
   "outputs": [],
   "source": [
    "dir='/home/lisha/school/Projects/hyperband_nnet/hyperband2/networkin/cifar100/small_search/'\n",
    "hyperband='hyperband/'\n",
    "random='random/'\n",
    "smac='smac/'\n",
    "hyperopt='hyperopt/'\n",
    "spearmint='spearmint/'\n",
    "smac_early='smac_early/'\n",
    "random_early='random_early'\n",
    "hyperband_constant='hyperband_constant/'\n",
    "fabolas='fabolas/'"
   ]
  },
  {
   "cell_type": "code",
   "execution_count": 32,
   "metadata": {
    "collapsed": true
   },
   "outputs": [],
   "source": [
    "import pickle\n",
    "import glob, os\n",
    "import fnmatch\n"
   ]
  },
  {
   "cell_type": "code",
   "execution_count": 40,
   "metadata": {
    "collapsed": false
   },
   "outputs": [],
   "source": [
    "searchers={'random_early':random_early,'hyperband_constant':hyperband_constant,'smac_early':smac_early}\n",
    "filenames={'hyperband':'hyperband','random':'random_hyperopt_august2013_mod', 'smac':'smac_2_06_01-dev',\n",
    "           'hyperopt': 'hyperopt_august2013_mod','spearmint':'spearmint_april2013_mod','hyperband_constant':'hyperband',\n",
    "           'random_early':'random_hyperopt_august2013_mod', 'smac_early':'smac_2_06_01-dev','fabolas':'results'}\n",
    "results={}\n",
    "for s in searchers.keys():\n",
    "    subdir=dir+searchers[s]\n",
    "    os.chdir(subdir)\n",
    "    results[s]={}\n",
    "    for dirpath, dirnames, files in os.walk(subdir):\n",
    "        if s.find('early') < 0:\n",
    "            if s =='hyperband' or s=='hyperband_constant':\n",
    "                for f in fnmatch.filter(files, '*.pkl'):\n",
    "                    index_trial=dirpath.index('trial')+5\n",
    "                    seed=int(dirpath[index_trial:])\n",
    "                    results[s][seed]=dirpath+'/'+f\n",
    "            elif s=='fabolas':\n",
    "                for f in fnmatch.filter(files, 'results.csv'):\n",
    "                    index_trial=dirpath.index('seed')+4\n",
    "                    seed=int(dirpath[index_trial:])\n",
    "                    results[s][seed]=dirpath+'/'+f\n",
    "            else:\n",
    "                for f in fnmatch.filter(files, s+'*.pkl'):            \n",
    "                    index_filename= dirpath.index(filenames[s])+len(filenames[s])\n",
    "                    seed=int(dirpath[index_filename+1:dirpath.find('_',index_filename+1)])            \n",
    "                    results[s][seed]=dirpath+'/'+f\n",
    "        else:\n",
    "            for f in fnmatch.filter(files, 'run_log.txt'):            \n",
    "                index_filename= dirpath.index(filenames[s])+len(filenames[s])\n",
    "                seed=int(dirpath[index_filename+1:dirpath.find('_',index_filename+1)])            \n",
    "                results[s][seed]=dirpath+'/'+f\n"
   ]
  },
  {
   "cell_type": "code",
   "execution_count": 28,
   "metadata": {
    "collapsed": false
   },
   "outputs": [
    {
     "data": {
      "text/plain": [
       "{'hyperband_constant': {21000: '/home/lisha/school/Projects/hyperband_nnet/hyperband2/networkin/cifar100/small_search/hyperband_constant/trial21000/results.pkl',\n",
       "  22000: '/home/lisha/school/Projects/hyperband_nnet/hyperband2/networkin/cifar100/small_search/hyperband_constant/trial22000/results.pkl',\n",
       "  23000: '/home/lisha/school/Projects/hyperband_nnet/hyperband2/networkin/cifar100/small_search/hyperband_constant/trial23000/results.pkl',\n",
       "  24000: '/home/lisha/school/Projects/hyperband_nnet/hyperband2/networkin/cifar100/small_search/hyperband_constant/trial24000/results.pkl',\n",
       "  25000: '/home/lisha/school/Projects/hyperband_nnet/hyperband2/networkin/cifar100/small_search/hyperband_constant/trial25000/results.pkl',\n",
       "  26000: '/home/lisha/school/Projects/hyperband_nnet/hyperband2/networkin/cifar100/small_search/hyperband_constant/trial26000/results.pkl',\n",
       "  27000: '/home/lisha/school/Projects/hyperband_nnet/hyperband2/networkin/cifar100/small_search/hyperband_constant/trial27000/results.pkl',\n",
       "  28000: '/home/lisha/school/Projects/hyperband_nnet/hyperband2/networkin/cifar100/small_search/hyperband_constant/trial28000/results.pkl',\n",
       "  29000: '/home/lisha/school/Projects/hyperband_nnet/hyperband2/networkin/cifar100/small_search/hyperband_constant/trial29000/results.pkl',\n",
       "  30000: '/home/lisha/school/Projects/hyperband_nnet/hyperband2/networkin/cifar100/small_search/hyperband_constant/trial30000/results.pkl',\n",
       "  31000: '/home/lisha/school/Projects/hyperband_nnet/hyperband2/networkin/cifar100/small_search/hyperband_constant/trial31000/results.pkl',\n",
       "  32000: '/home/lisha/school/Projects/hyperband_nnet/hyperband2/networkin/cifar100/small_search/hyperband_constant/trial32000/results.pkl',\n",
       "  33000: '/home/lisha/school/Projects/hyperband_nnet/hyperband2/networkin/cifar100/small_search/hyperband_constant/trial33000/results.pkl',\n",
       "  34000: '/home/lisha/school/Projects/hyperband_nnet/hyperband2/networkin/cifar100/small_search/hyperband_constant/trial34000/results.pkl',\n",
       "  35000: '/home/lisha/school/Projects/hyperband_nnet/hyperband2/networkin/cifar100/small_search/hyperband_constant/trial35000/results.pkl',\n",
       "  36000: '/home/lisha/school/Projects/hyperband_nnet/hyperband2/networkin/cifar100/small_search/hyperband_constant/trial36000/results.pkl',\n",
       "  37000: '/home/lisha/school/Projects/hyperband_nnet/hyperband2/networkin/cifar100/small_search/hyperband_constant/trial37000/results.pkl',\n",
       "  38000: '/home/lisha/school/Projects/hyperband_nnet/hyperband2/networkin/cifar100/small_search/hyperband_constant/trial38000/results.pkl',\n",
       "  39000: '/home/lisha/school/Projects/hyperband_nnet/hyperband2/networkin/cifar100/small_search/hyperband_constant/trial39000/results.pkl',\n",
       "  40000: '/home/lisha/school/Projects/hyperband_nnet/hyperband2/networkin/cifar100/small_search/hyperband_constant/trial40000/results.pkl'},\n",
       " 'random_early': {41000: ['/home/lisha/school/Projects/hyperband_nnet/hyperband2/networkin/cifar100/small_search/random_early/random_hyperopt_august2013_mod_41000_2016-7-24--8-11-27-438979/run_log.txt'],\n",
       "  42000: ['/home/lisha/school/Projects/hyperband_nnet/hyperband2/networkin/cifar100/small_search/random_early/random_hyperopt_august2013_mod_42000_2016-7-24--8-11-27-438979/run_log.txt'],\n",
       "  43000: ['/home/lisha/school/Projects/hyperband_nnet/hyperband2/networkin/cifar100/small_search/random_early/random_hyperopt_august2013_mod_43000_2016-7-24--8-11-48-303854/run_log.txt'],\n",
       "  44000: ['/home/lisha/school/Projects/hyperband_nnet/hyperband2/networkin/cifar100/small_search/random_early/random_hyperopt_august2013_mod_44000_2016-7-24--8-11-48-303852/run_log.txt'],\n",
       "  45000: ['/home/lisha/school/Projects/hyperband_nnet/hyperband2/networkin/cifar100/small_search/random_early/random_hyperopt_august2013_mod_45000_2016-7-24--8-11-48-303933/run_log.txt'],\n",
       "  46000: ['/home/lisha/school/Projects/hyperband_nnet/hyperband2/networkin/cifar100/small_search/random_early/random_hyperopt_august2013_mod_46000_2016-7-24--8-11-52-486725/run_log.txt'],\n",
       "  47000: ['/home/lisha/school/Projects/hyperband_nnet/hyperband2/networkin/cifar100/small_search/random_early/random_hyperopt_august2013_mod_47000_2016-7-24--8-12-28-434435/run_log.txt'],\n",
       "  48000: ['/home/lisha/school/Projects/hyperband_nnet/hyperband2/networkin/cifar100/small_search/random_early/random_hyperopt_august2013_mod_48000_2016-7-24--8-12-28-434689/run_log.txt'],\n",
       "  49000: ['/home/lisha/school/Projects/hyperband_nnet/hyperband2/networkin/cifar100/small_search/random_early/random_hyperopt_august2013_mod_49000_2016-7-24--8-12-28-434819/run_log.txt'],\n",
       "  50000: ['/home/lisha/school/Projects/hyperband_nnet/hyperband2/networkin/cifar100/small_search/random_early/random_hyperopt_august2013_mod_50000_2016-7-24--8-12-28-434287/run_log.txt']},\n",
       " 'smac_early': {11000: ['/home/lisha/school/Projects/hyperband_nnet/hyperband2/networkin/cifar100/small_search/smac_early/smac_2_06_01-dev_11000_2016-7-24--8-1-56-784931/run_log.txt'],\n",
       "  12000: ['/home/lisha/school/Projects/hyperband_nnet/hyperband2/networkin/cifar100/small_search/smac_early/smac_2_06_01-dev_12000_2016-7-24--8-1-56-784921/run_log.txt'],\n",
       "  13000: ['/home/lisha/school/Projects/hyperband_nnet/hyperband2/networkin/cifar100/small_search/smac_early/smac_2_06_01-dev_13000_2016-7-24--8-2-0-26765/run_log.txt'],\n",
       "  14000: ['/home/lisha/school/Projects/hyperband_nnet/hyperband2/networkin/cifar100/small_search/smac_early/smac_2_06_01-dev_14000_2016-7-24--8-2-4-702714/run_log.txt'],\n",
       "  15000: ['/home/lisha/school/Projects/hyperband_nnet/hyperband2/networkin/cifar100/small_search/smac_early/smac_2_06_01-dev_15000_2016-7-24--8-10-23-840544/run_log.txt'],\n",
       "  16000: ['/home/lisha/school/Projects/hyperband_nnet/hyperband2/networkin/cifar100/small_search/smac_early/smac_2_06_01-dev_16000_2016-7-24--8-10-23-840524/run_log.txt'],\n",
       "  17000: ['/home/lisha/school/Projects/hyperband_nnet/hyperband2/networkin/cifar100/small_search/smac_early/smac_2_06_01-dev_17000_2016-7-24--8-10-23-840527/run_log.txt'],\n",
       "  18000: ['/home/lisha/school/Projects/hyperband_nnet/hyperband2/networkin/cifar100/small_search/smac_early/smac_2_06_01-dev_18000_2016-7-24--8-10-31-567843/run_log.txt'],\n",
       "  19000: ['/home/lisha/school/Projects/hyperband_nnet/hyperband2/networkin/cifar100/small_search/smac_early/smac_2_06_01-dev_19000_2016-7-24--8-10-53-485994/run_log.txt'],\n",
       "  20000: ['/home/lisha/school/Projects/hyperband_nnet/hyperband2/networkin/cifar100/small_search/smac_early/smac_2_06_01-dev_20000_2016-7-24--8-10-53-485893/run_log.txt'],\n",
       "  21000: ['/home/lisha/school/Projects/hyperband_nnet/hyperband2/networkin/cifar100/small_search/smac_early/smac_2_06_01-dev_21000_2016-8-4--17-1-40-142482/run_log.txt'],\n",
       "  22000: ['/home/lisha/school/Projects/hyperband_nnet/hyperband2/networkin/cifar100/small_search/smac_early/smac_2_06_01-dev_22000_2016-8-4--17-1-30-287677/run_log.txt'],\n",
       "  23000: ['/home/lisha/school/Projects/hyperband_nnet/hyperband2/networkin/cifar100/small_search/smac_early/smac_2_06_01-dev_23000_2016-8-5--20-6-3-19892/run_log.txt'],\n",
       "  24000: ['/home/lisha/school/Projects/hyperband_nnet/hyperband2/networkin/cifar100/small_search/smac_early/smac_2_06_01-dev_24000_2016-8-5--20-6-15-633706/run_log.txt'],\n",
       "  25000: ['/home/lisha/school/Projects/hyperband_nnet/hyperband2/networkin/cifar100/small_search/smac_early/smac_2_06_01-dev_25000_2016-8-5--20-6-40-491213/run_log.txt'],\n",
       "  26000: ['/home/lisha/school/Projects/hyperband_nnet/hyperband2/networkin/cifar100/small_search/smac_early/smac_2_06_01-dev_26000_2016-8-8--11-32-50-887953/run_log.txt'],\n",
       "  27000: ['/home/lisha/school/Projects/hyperband_nnet/hyperband2/networkin/cifar100/small_search/smac_early/smac_2_06_01-dev_27000_2016-8-8--11-32-59-801325/run_log.txt']}}"
      ]
     },
     "execution_count": 28,
     "metadata": {},
     "output_type": "execute_result"
    }
   ],
   "source": [
    "results"
   ]
  },
  {
   "cell_type": "code",
   "execution_count": 29,
   "metadata": {
    "collapsed": false
   },
   "outputs": [
    {
     "ename": "NameError",
     "evalue": "name 'data' is not defined",
     "output_type": "error",
     "traceback": [
      "\u001b[1;31m---------------------------------------------------------------------------\u001b[0m",
      "\u001b[1;31mNameError\u001b[0m                                 Traceback (most recent call last)",
      "\u001b[1;32m<ipython-input-29-dd37e15cb843>\u001b[0m in \u001b[0;36m<module>\u001b[1;34m()\u001b[0m\n\u001b[1;32m----> 1\u001b[1;33m \u001b[0mtimes\u001b[0m\u001b[1;33m=\u001b[0m\u001b[1;33m[\u001b[0m\u001b[0mi\u001b[0m\u001b[1;33m[\u001b[0m\u001b[1;36m0\u001b[0m\u001b[1;33m]\u001b[0m \u001b[1;32mfor\u001b[0m \u001b[0mi\u001b[0m \u001b[1;32min\u001b[0m \u001b[0mdata\u001b[0m\u001b[1;33m[\u001b[0m\u001b[1;36m0\u001b[0m\u001b[1;33m]\u001b[0m\u001b[1;33m]\u001b[0m\u001b[1;33m\u001b[0m\u001b[0m\n\u001b[0m\u001b[0;32m      2\u001b[0m \u001b[0mtimes\u001b[0m\u001b[1;33m=\u001b[0m\u001b[1;33m[\u001b[0m\u001b[0mtimes\u001b[0m\u001b[1;33m[\u001b[0m\u001b[1;36m0\u001b[0m\u001b[1;33m]\u001b[0m\u001b[1;33m]\u001b[0m \u001b[1;33m+\u001b[0m \u001b[1;33m[\u001b[0m\u001b[0mtimes\u001b[0m\u001b[1;33m[\u001b[0m\u001b[0mi\u001b[0m\u001b[1;33m]\u001b[0m\u001b[1;33m-\u001b[0m\u001b[0mtimes\u001b[0m\u001b[1;33m[\u001b[0m\u001b[0mi\u001b[0m\u001b[1;33m-\u001b[0m\u001b[1;36m1\u001b[0m\u001b[1;33m]\u001b[0m \u001b[1;32mfor\u001b[0m \u001b[0mi\u001b[0m \u001b[1;32min\u001b[0m \u001b[0mrange\u001b[0m\u001b[1;33m(\u001b[0m\u001b[1;36m1\u001b[0m\u001b[1;33m,\u001b[0m\u001b[0mlen\u001b[0m\u001b[1;33m(\u001b[0m\u001b[0mtimes\u001b[0m\u001b[1;33m)\u001b[0m\u001b[1;33m)\u001b[0m\u001b[1;33m]\u001b[0m\u001b[1;33m\u001b[0m\u001b[0m\n",
      "\u001b[1;31mNameError\u001b[0m: name 'data' is not defined"
     ]
    }
   ],
   "source": [
    "times=[i[0] for i in data[0]]\n",
    "times=[times[0]] + [times[i]-times[i-1] for i in range(1,len(times))]"
   ]
  },
  {
   "cell_type": "code",
   "execution_count": 57,
   "metadata": {
    "collapsed": false
   },
   "outputs": [
    {
     "data": {
      "text/plain": [
       "{'batch_size': 100,\n",
       " 'dir': '/home/ubuntu/hyperband2/benchmarks/networkin/cifar100/hyperband_constant//trial25000/arm371',\n",
       " 'dropout1': 0.47599335115419061,\n",
       " 'dropout2': 0.47665251994759883,\n",
       " 'learning_rate1': 0.030597768120913686,\n",
       " 'learning_rate2': 0.1424543251873005,\n",
       " 'learning_rate3': 0.11070064354622157,\n",
       " 'lr_step': 2,\n",
       " 'momentum': 0.99455260129273415,\n",
       " 'n_iter': 15000,\n",
       " 'results': [[15000,\n",
       "   array(4.605170249938965, dtype=float32),\n",
       "   0.0098999997787177565,\n",
       "   0.0099999997764825821]],\n",
       " 'solver_file': '/home/ubuntu/hyperband2/benchmarks/networkin/cifar100/hyperband_constant//trial25000/arm371/network_solver.prototxt',\n",
       " 'test_net_file': '/home/ubuntu/hyperband2/benchmarks/networkin/cifar100/hyperband_constant//trial25000/arm371/network_test.prototxt',\n",
       " 'train_net_file': '/home/ubuntu/hyperband2/benchmarks/networkin/cifar100/hyperband_constant//trial25000/arm371/network_train.prototxt',\n",
       " 'val_net_file': '/home/ubuntu/hyperband2/benchmarks/networkin/cifar100/hyperband_constant//trial25000/arm371/network_val.prototxt',\n",
       " 'w_init1': 0.95954063505819531,\n",
       " 'w_init2': 0.07100597616377341,\n",
       " 'w_init3': 0.011906328490670181,\n",
       " 'weight_cost1': 0.84945196882964735,\n",
       " 'weight_cost2': 0.14079662937468582,\n",
       " 'weight_cost3': 0.015803016242441403}"
      ]
     },
     "execution_count": 57,
     "metadata": {},
     "output_type": "execute_result"
    }
   ],
   "source": [
    "data[1][3.0,1][9]"
   ]
  },
  {
   "cell_type": "code",
   "execution_count": 56,
   "metadata": {
    "collapsed": false
   },
   "outputs": [
    {
     "data": {
      "text/plain": [
       "0.0003414250481820963"
      ]
     },
     "execution_count": 56,
     "metadata": {},
     "output_type": "execute_result"
    }
   ],
   "source": [
    "float(smac_data['trials'][31]['params']['-weight_cost3'])*2"
   ]
  },
  {
   "cell_type": "code",
   "execution_count": 103,
   "metadata": {
    "collapsed": false
   },
   "outputs": [],
   "source": [
    "#Parse SVHN text_files\n",
    "def parse_text(text_files,outdir):\n",
    "    results=[]\n",
    "    for text_file in text_files:\n",
    "        file = open(text_file,'r')        \n",
    "        for line in file:\n",
    "            if line[0:2]=='k=':\n",
    "                parsed=line.split()\n",
    "                train=0\n",
    "                dur=0\n",
    "                val_acc=float(parsed[2][8:-1])\n",
    "                test_acc=float(parsed[3][9:])\n",
    "                best_dir=parsed[5]\n",
    "                results.append([dur,[best_dir,train,val_acc,test_acc]])\n",
    "    data= [results,[]]\n",
    "    pickle.dump(data,open(outdir+'/hyperband_results.pkl','w'))\n",
    "searchers={'hyperband':hyperband,'random':random, 'smac':smac,'hyperopt': hyperopt,'spearmint':spearmint,'hyperband_constant':hyperband_constant}\n",
    "filenames={'hyperband':'hyperband','random':'random_hyperopt_august2013_mod', 'smac':'smac_2_06_01-dev','hyperopt': 'hyperopt_august2013_mod','spearmint':'spearmint_april2013_mod','hyperband_constant':'hyperband'}\n",
    "results={}\n",
    "s='hyperband_constant'\n",
    "subdir=dir+searchers[s]\n",
    "os.chdir(subdir)\n",
    "filenames={}\n",
    "for dirpath, dirnames, files in os.walk(subdir):\n",
    "    if s =='hyperband' or s=='hyperband_constant':\n",
    "        for f in fnmatch.filter(files, '*.log'):\n",
    "            index_trial=dirpath.index('trial')+5\n",
    "            seed=int(dirpath[index_trial:])\n",
    "            filenames[seed]=[dirpath,dirpath+'/'+f]\n",
    "\n",
    "seeds=[k for k in filenames.keys() if k <11000]\n",
    "seeds.sort()\n",
    "for i in range(5):\n",
    "    files=[filenames[seeds[2*i]][1],filenames[seeds[2*i+1]][1]]\n",
    "    dirpath=filenames[seeds[2*i]][0]\n",
    "    parse_text(files,dirpath)"
   ]
  },
  {
   "cell_type": "code",
   "execution_count": 22,
   "metadata": {
    "collapsed": false
   },
   "outputs": [],
   "source": [
    "def get_hyperband_results(dictionary,s):\n",
    "    data=dictionary[0]\n",
    "    hyperband_results=[]\n",
    "    val_err=1\n",
    "    test_err=1\n",
    "    #times=[4, 8, 12, 16, 20,28,36,44,52,60,68]\n",
    "    if s=='hyperband':\n",
    "        times=[4, 8, 12, 16,24,32,40,48,56]\n",
    "        indices=[0,1,2,3,5,6,7,8,9]\n",
    "    else:\n",
    "        times=[5,10,15,20,25,30]\n",
    "        indices=[0,1,2,3,4,5]\n",
    "    for i in range(len(times)):\n",
    "        time=times[i]\n",
    "        index=indices[i]\n",
    "        if 1- data[index][1][-2] < val_err:\n",
    "            val_err = 1- data[index][1][-2]\n",
    "            test_err = 1-data[index][1][-1]\n",
    "        hyperband_results.append([time,val_err,test_err])\n",
    "    return hyperband_results"
   ]
  },
  {
   "cell_type": "code",
   "execution_count": 23,
   "metadata": {
    "collapsed": false
   },
   "outputs": [],
   "source": [
    "def get_random_results(data,speed=1):\n",
    "    #data=dictionary[0]\n",
    "    random_results=[]\n",
    "    n_arms=len(data)\n",
    "    val_err=1\n",
    "    test_err=1\n",
    "    \n",
    "    for i in range(n_arms):\n",
    "        time = (i+1)*1.0/speed\n",
    "        if data[i]['result']<val_err:\n",
    "            val_err = data[i]['result']\n",
    "            test_err = data[i]['test_error']\n",
    "        random_results.append([time,val_err,test_err])\n",
    "    return random_results"
   ]
  },
  {
   "cell_type": "code",
   "execution_count": 46,
   "metadata": {
    "collapsed": false
   },
   "outputs": [],
   "source": [
    "def get_early_stop(filename):\n",
    "    os.chdir(subdir)\n",
    "    data = open(filename,'rb')\n",
    "    results=[]\n",
    "    time=0\n",
    "    val_acc = 0\n",
    "    test_acc= 0\n",
    "    for line in data:\n",
    "        d=line.split(',')\n",
    "        time =time+int(d[5])/150.0\n",
    "        if float(d[1])>val_acc:\n",
    "            val_acc=float(d[1])\n",
    "            test_acc=float(d[3])\n",
    "        results.append([time,1-val_acc,1-test_acc])\n",
    "    norm_results=[]\n",
    "    for i in range(1,25):\n",
    "        ind=len([t[0] for t in results if t[0] <= i])-1\n",
    "        norm_results.append([i,results[ind][1],results[ind][2]])\n",
    "    return norm_results\n",
    "            \n",
    "        \n",
    "        "
   ]
  },
  {
   "cell_type": "code",
   "execution_count": 47,
   "metadata": {
    "collapsed": false
   },
   "outputs": [],
   "source": [
    "def minutes(time,start):\n",
    "    return (time-start)/60.\n",
    "def get_results_hpo(data):\n",
    "    output=[]\n",
    "    val_err=1\n",
    "    test_err=1\n",
    "    for i in range(len(data['cv_endtime'])):\n",
    "        dur = i+1\n",
    "        if data['trials'][i]['result'] < val_err:\n",
    "            val_err=data['trials'][i]['result']\n",
    "            test_err=data['trials'][i]['test_error']\n",
    "        output.append([dur,val_err,test_err])\n",
    "    return output\n",
    "min_results={}\n",
    "for s in ['hyperband_constant','smac_early','random_early']:\n",
    "    min_results[s]={}\n",
    "    for seed in results[s].keys():\n",
    "        if s.find('early') < 0:\n",
    "            data=pickle.load(open(results[s][seed],'rb'))\n",
    "            if s =='hyperband' or s=='hyperband_constant':\n",
    "                if seed < 31000:\n",
    "                    min_results[s][seed]=get_hyperband_results(data,s)\n",
    "            else:\n",
    "                min_results[s][seed]=get_results_hpo(data)\n",
    "        else:\n",
    "            min_results[s][seed]=get_early_stop(results[s][seed])\n",
    "    \n",
    "        \n",
    "#min_results['random_2x']={}\n",
    "#for seed in range(len(data['random'].keys())/2):\n",
    "#    seed1=data['random'].keys()[2*seed]\n",
    "#    seed2=data['random'].keys()[2*seed+1]\n",
    "#    random_data=data['random'][seed1]['trials']+data['random'][seed2]['trials']\n",
    "#    min_results['random_2x'][seed1]=get_random_results(random_data,2)\n",
    "\n"
   ]
  },
  {
   "cell_type": "code",
   "execution_count": 39,
   "metadata": {
    "collapsed": false
   },
   "outputs": [
    {
     "data": {
      "text/plain": [
       "['/home/lisha/school/Projects/hyperband_nnet/hyperband2/networkin/cifar100/small_search/smac_early/smac_2_06_01-dev_24000_2016-8-5--20-6-15-633706/run_log.txt']"
      ]
     },
     "execution_count": 39,
     "metadata": {},
     "output_type": "execute_result"
    }
   ],
   "source": [
    "results[s][seed]"
   ]
  },
  {
   "cell_type": "code",
   "execution_count": 42,
   "metadata": {
    "collapsed": false
   },
   "outputs": [],
   "source": [
    "import numpy\n",
    "def average_trials(s_data):\n",
    "    mean_data={}\n",
    "    for s in s_data.keys():\n",
    "        mean_data[s]=[]\n",
    "        min_iters=min([len(s_data[s][seed]) for seed in s_data[s].keys()])\n",
    "        for i in range(min_iters):\n",
    "            avg_r=numpy.nanmean([min_results[s][seed][i] for seed in min_results[s].keys()],axis=0)\n",
    "            max_r=numpy.nanmax([min_results[s][seed][i] for seed in min_results[s].keys()],axis=0)\n",
    "            max_r[1:]=max_r[1:]-avg_r[1:]\n",
    "            min_r=numpy.nanmin([min_results[s][seed][i] for seed in min_results[s].keys()],axis=0)\n",
    "            min_r[1:]=avg_r[1:]-min_r[1:]\n",
    "            mean_data[s].append([min_r,avg_r,max_r])\n",
    "    return mean_data"
   ]
  },
  {
   "cell_type": "code",
   "execution_count": 107,
   "metadata": {
    "collapsed": false
   },
   "outputs": [],
   "source": [
    "#[[s,min_results['hyperopt'][s][55][1:]] for s in min_results['hyperopt'].keys()]\n",
    "[[k,min_results['spearmint'][k][-1]] for k in min_results['spearmint'].keys()]\n",
    "min_results['spearmint'][8700].append([55,0.044499999999999998,0.040231000000000003])\n",
    "min_results['spearmint'][8700].append([56,0.044499999999999998,0.040231000000000003])"
   ]
  },
  {
   "cell_type": "code",
   "execution_count": 48,
   "metadata": {
    "collapsed": false
   },
   "outputs": [],
   "source": [
    "mean_data=average_trials(min_results)"
   ]
  },
  {
   "cell_type": "code",
   "execution_count": 50,
   "metadata": {
    "collapsed": false
   },
   "outputs": [
    {
     "data": {
      "text/plain": [
       "{11000: [[1, 0.99010000022128, 0.99000000022352],\n",
       "  [2, 0.99010000022128, 0.99000000022352],\n",
       "  [3, 0.99010000022128, 0.99000000022352],\n",
       "  [4, 0.99010000022128, 0.99000000022352],\n",
       "  [5, 0.99010000022128, 0.99000000022352],\n",
       "  [6, 0.438200002611, 0.438899999857],\n",
       "  [7, 0.438200002611, 0.438899999857],\n",
       "  [8, 0.423200000823, 0.42370000213400005],\n",
       "  [9, 0.423200000823, 0.42370000213400005],\n",
       "  [10, 0.423200000823, 0.42370000213400005],\n",
       "  [11, 0.423200000823, 0.42370000213400005],\n",
       "  [12, 0.423200000823, 0.42370000213400005],\n",
       "  [13, 0.423200000823, 0.42370000213400005],\n",
       "  [14, 0.423200000823, 0.42370000213400005],\n",
       "  [15, 0.423200000823, 0.42370000213400005],\n",
       "  [16, 0.423200000823, 0.42370000213400005],\n",
       "  [17, 0.423200000823, 0.42370000213400005],\n",
       "  [18, 0.423200000823, 0.42370000213400005],\n",
       "  [19, 0.423200000823, 0.42370000213400005],\n",
       "  [20, 0.423200000823, 0.42370000213400005],\n",
       "  [21, 0.423200000823, 0.42370000213400005],\n",
       "  [22, 0.423200000823, 0.42370000213400005],\n",
       "  [23, 0.423200000823, 0.42370000213400005],\n",
       "  [24, 0.42290000200300004, 0.42620000004799996]],\n",
       " 12000: [[1, 0.99170000018552, 0.99000000022352],\n",
       "  [2, 0.453200000525, 0.45860000580500004],\n",
       "  [3, 0.453200000525, 0.45860000580500004],\n",
       "  [4, 0.453200000525, 0.45860000580500004],\n",
       "  [5, 0.453200000525, 0.45860000580500004],\n",
       "  [6, 0.453200000525, 0.45860000580500004],\n",
       "  [7, 0.453200000525, 0.45860000580500004],\n",
       "  [8, 0.453200000525, 0.45860000580500004],\n",
       "  [9, 0.438400001526, 0.44780000388600005],\n",
       "  [10, 0.438400001526, 0.44780000388600005],\n",
       "  [11, 0.438400001526, 0.44780000388600005],\n",
       "  [12, 0.438400001526, 0.44780000388600005],\n",
       "  [13, 0.438400001526, 0.44780000388600005],\n",
       "  [14, 0.438400001526, 0.44780000388600005],\n",
       "  [15, 0.438400001526, 0.44780000388600005],\n",
       "  [16, 0.438400001526, 0.44780000388600005],\n",
       "  [17, 0.438400001526, 0.44780000388600005],\n",
       "  [18, 0.438400001526, 0.44780000388600005],\n",
       "  [19, 0.438400001526, 0.44780000388600005],\n",
       "  [20, 0.438400001526, 0.44780000388600005],\n",
       "  [21, 0.438400001526, 0.44780000388600005],\n",
       "  [22, 0.438400001526, 0.44780000388600005],\n",
       "  [23, 0.438400001526, 0.44780000388600005],\n",
       "  [24, 0.438400001526, 0.44780000388600005]],\n",
       " 13000: [[1, 0.99010000022128, 0.99000000022352],\n",
       "  [2, 0.99010000022128, 0.99000000022352],\n",
       "  [3, 0.99010000022128, 0.99000000022352],\n",
       "  [4, 0.99010000022128, 0.99000000022352],\n",
       "  [5, 0.43060000211000005, 0.43180000335],\n",
       "  [6, 0.43060000211000005, 0.43180000335],\n",
       "  [7, 0.43060000211000005, 0.43180000335],\n",
       "  [8, 0.43060000211000005, 0.43180000335],\n",
       "  [9, 0.381399999261, 0.394800001383],\n",
       "  [10, 0.381399999261, 0.394800001383],\n",
       "  [11, 0.381399999261, 0.394800001383],\n",
       "  [12, 0.381399999261, 0.394800001383],\n",
       "  [13, 0.381399999261, 0.394800001383],\n",
       "  [14, 0.381399999261, 0.394800001383],\n",
       "  [15, 0.381399999261, 0.394800001383],\n",
       "  [16, 0.381399999261, 0.394800001383],\n",
       "  [17, 0.381399999261, 0.394800001383],\n",
       "  [18, 0.381399999261, 0.394800001383],\n",
       "  [19, 0.381399999261, 0.394800001383],\n",
       "  [20, 0.381399999261, 0.394800001383],\n",
       "  [21, 0.381399999261, 0.394800001383],\n",
       "  [22, 0.381399999261, 0.394800001383],\n",
       "  [23, 0.381399999261, 0.394800001383],\n",
       "  [24, 0.381399999261, 0.394800001383]],\n",
       " 14000: [[1, 0.99010000022128, 0.99000000022352],\n",
       "  [2, 0.99010000022128, 0.99000000022352],\n",
       "  [3, 0.99010000022128, 0.99000000022352],\n",
       "  [4, 0.99010000022128, 0.99000000022352],\n",
       "  [5, 0.99010000022128, 0.99000000022352],\n",
       "  [6, 0.99010000022128, 0.99000000022352],\n",
       "  [7, 0.99010000022128, 0.99000000022352],\n",
       "  [8, 0.99010000022128, 0.99000000022352],\n",
       "  [9, 0.405300002098, 0.40919999957099995],\n",
       "  [10, 0.405300002098, 0.40919999957099995],\n",
       "  [11, 0.405300002098, 0.40919999957099995],\n",
       "  [12, 0.405300002098, 0.40919999957099995],\n",
       "  [13, 0.405300002098, 0.40919999957099995],\n",
       "  [14, 0.405300002098, 0.40919999957099995],\n",
       "  [15, 0.405300002098, 0.40919999957099995],\n",
       "  [16, 0.405300002098, 0.40919999957099995],\n",
       "  [17, 0.405300002098, 0.40919999957099995],\n",
       "  [18, 0.405300002098, 0.40919999957099995],\n",
       "  [19, 0.405300002098, 0.40919999957099995],\n",
       "  [20, 0.405300002098, 0.40919999957099995],\n",
       "  [21, 0.405300002098, 0.40919999957099995],\n",
       "  [22, 0.405300002098, 0.40919999957099995],\n",
       "  [23, 0.405300002098, 0.40919999957099995],\n",
       "  [24, 0.405300002098, 0.40919999957099995]],\n",
       " 15000: [[1, 0.99010000022128, 0.99000000022352],\n",
       "  [2, 0.99010000022128, 0.99000000022352],\n",
       "  [3, 0.538000002205, 0.534900002778],\n",
       "  [4, 0.538000002205, 0.534900002778],\n",
       "  [5, 0.479300002456, 0.478400004208],\n",
       "  [6, 0.479300002456, 0.478400004208],\n",
       "  [7, 0.40400000214599996, 0.40860000222899995],\n",
       "  [8, 0.40400000214599996, 0.40860000222899995],\n",
       "  [9, 0.40400000214599996, 0.40860000222899995],\n",
       "  [10, 0.40400000214599996, 0.40860000222899995],\n",
       "  [11, 0.40400000214599996, 0.40860000222899995],\n",
       "  [12, 0.40400000214599996, 0.40860000222899995],\n",
       "  [13, 0.40400000214599996, 0.40860000222899995],\n",
       "  [14, 0.40400000214599996, 0.40860000222899995],\n",
       "  [15, 0.40400000214599996, 0.40860000222899995],\n",
       "  [16, 0.40400000214599996, 0.40860000222899995],\n",
       "  [17, 0.394099997878, 0.40130000352899997],\n",
       "  [18, 0.394099997878, 0.40130000352899997],\n",
       "  [19, 0.394099997878, 0.40130000352899997],\n",
       "  [20, 0.394099997878, 0.40130000352899997],\n",
       "  [21, 0.394099997878, 0.40130000352899997],\n",
       "  [22, 0.394099997878, 0.40130000352899997],\n",
       "  [23, 0.394099997878, 0.40130000352899997],\n",
       "  [24, 0.39140000104899997, 0.39410000145400004]],\n",
       " 16000: [[1, 0.99010000022128, 0.99000000022352],\n",
       "  [2, 0.99010000022128, 0.99000000022352],\n",
       "  [3, 0.99010000022128, 0.99000000022352],\n",
       "  [4, 0.99010000022128, 0.99000000022352],\n",
       "  [5, 0.9808000003919, 0.9814000003412],\n",
       "  [6, 0.9808000003919, 0.9814000003412],\n",
       "  [7, 0.9119999999925, 0.9177000000142],\n",
       "  [8, 0.9119999999925, 0.9177000000142],\n",
       "  [9, 0.47940000057200005, 0.48400000363600004],\n",
       "  [10, 0.478500002325, 0.47560000151399995],\n",
       "  [11, 0.478500002325, 0.47560000151399995],\n",
       "  [12, 0.478500002325, 0.47560000151399995],\n",
       "  [13, 0.478500002325, 0.47560000151399995],\n",
       "  [14, 0.44399999946400004, 0.45170000195500004],\n",
       "  [15, 0.44399999946400004, 0.45170000195500004],\n",
       "  [16, 0.437999999821, 0.44480000287300003],\n",
       "  [17, 0.437999999821, 0.44480000287300003],\n",
       "  [18, 0.437999999821, 0.44480000287300003],\n",
       "  [19, 0.437999999821, 0.44480000287300003],\n",
       "  [20, 0.437999999821, 0.44480000287300003],\n",
       "  [21, 0.437999999821, 0.44480000287300003],\n",
       "  [22, 0.437999999821, 0.44480000287300003],\n",
       "  [23, 0.437999999821, 0.44480000287300003],\n",
       "  [24, 0.437999999821, 0.44480000287300003]],\n",
       " 17000: [[1, 0.99010000022128, 0.99000000022352],\n",
       "  [2, 0.99010000022128, 0.99000000022352],\n",
       "  [3, 0.99010000022128, 0.99000000022352],\n",
       "  [4, 0.99010000022128, 0.99000000022352],\n",
       "  [5, 0.46100000143099995, 0.46360000103700005],\n",
       "  [6, 0.46100000143099995, 0.46360000103700005],\n",
       "  [7, 0.46100000143099995, 0.46360000103700005],\n",
       "  [8, 0.425700001419, 0.42180000215799995],\n",
       "  [9, 0.425700001419, 0.42180000215799995],\n",
       "  [10, 0.425700001419, 0.42180000215799995],\n",
       "  [11, 0.425700001419, 0.42180000215799995],\n",
       "  [12, 0.425700001419, 0.42180000215799995],\n",
       "  [13, 0.425700001419, 0.42180000215799995],\n",
       "  [14, 0.425700001419, 0.42180000215799995],\n",
       "  [15, 0.425700001419, 0.42180000215799995],\n",
       "  [16, 0.425700001419, 0.42180000215799995],\n",
       "  [17, 0.419400002956, 0.43400000453],\n",
       "  [18, 0.415200003684, 0.42020000398199997],\n",
       "  [19, 0.415200003684, 0.42020000398199997],\n",
       "  [20, 0.415200003684, 0.42020000398199997],\n",
       "  [21, 0.415200003684, 0.42020000398199997],\n",
       "  [22, 0.415200003684, 0.42020000398199997],\n",
       "  [23, 0.408700000942, 0.403700000942],\n",
       "  [24, 0.408700000942, 0.403700000942]],\n",
       " 18000: [[1, 0.99010000022128, 0.99000000022352],\n",
       "  [2, 0.99010000022128, 0.99000000022352],\n",
       "  [3, 0.99010000022128, 0.99000000022352],\n",
       "  [4, 0.99010000022128, 0.99000000022352],\n",
       "  [5, 0.99010000022128, 0.99000000022352],\n",
       "  [6, 0.99010000022128, 0.99000000022352],\n",
       "  [7, 0.99010000022128, 0.99000000022352],\n",
       "  [8, 0.99010000022128, 0.99000000022352],\n",
       "  [9, 0.99010000022128, 0.99000000022352],\n",
       "  [10, 0.99010000022128, 0.99000000022352],\n",
       "  [11, 0.99010000022128, 0.99000000022352],\n",
       "  [12, 0.99010000022128, 0.99000000022352],\n",
       "  [13, 0.99010000022128, 0.99000000022352],\n",
       "  [14, 0.507600003481, 0.5052000054720001],\n",
       "  [15, 0.507600003481, 0.5052000054720001],\n",
       "  [16, 0.507600003481, 0.5052000054720001],\n",
       "  [17, 0.43640000313500005, 0.43740000456600003],\n",
       "  [18, 0.399200006425, 0.391500001252],\n",
       "  [19, 0.399200006425, 0.391500001252],\n",
       "  [20, 0.399200006425, 0.391500001252],\n",
       "  [21, 0.399200006425, 0.391500001252],\n",
       "  [22, 0.399200006425, 0.391500001252],\n",
       "  [23, 0.399200006425, 0.391500001252],\n",
       "  [24, 0.399200006425, 0.391500001252]],\n",
       " 19000: [[1, 0.99200000017881, 0.99000000022352],\n",
       "  [2, 0.99010000022128, 0.99000000022352],\n",
       "  [3, 0.99010000022128, 0.99000000022352],\n",
       "  [4, 0.99010000022128, 0.99000000022352],\n",
       "  [5, 0.99010000022128, 0.99000000022352],\n",
       "  [6, 0.99010000022128, 0.99000000022352],\n",
       "  [7, 0.99010000022128, 0.99000000022352],\n",
       "  [8, 0.99010000022128, 0.99000000022352],\n",
       "  [9, 0.99010000022128, 0.99000000022352],\n",
       "  [10, 0.99010000022128, 0.99000000022352],\n",
       "  [11, 0.99010000022128, 0.99000000022352],\n",
       "  [12, 0.99010000022128, 0.99000000022352],\n",
       "  [13, 0.99010000022128, 0.99000000022352],\n",
       "  [14, 0.99010000022128, 0.99000000022352],\n",
       "  [15, 0.99010000022128, 0.99000000022352],\n",
       "  [16, 0.99010000022128, 0.99000000022352],\n",
       "  [17, 0.99010000022128, 0.99000000022352],\n",
       "  [18, 0.7764000000060001, 0.76870000124],\n",
       "  [19, 0.7764000000060001, 0.76870000124],\n",
       "  [20, 0.47770000129900003, 0.46980000376700004],\n",
       "  [21, 0.473300000429, 0.466000001729],\n",
       "  [22, 0.473300000429, 0.466000001729],\n",
       "  [23, 0.473300000429, 0.466000001729],\n",
       "  [24, 0.473300000429, 0.466000001729]],\n",
       " 20000: [[1, 0.99010000022128, 0.99000000022352],\n",
       "  [2, 0.99010000022128, 0.99000000022352],\n",
       "  [3, 0.99010000022128, 0.99000000022352],\n",
       "  [4, 0.99010000022128, 0.99000000022352],\n",
       "  [5, 0.99010000022128, 0.99000000022352],\n",
       "  [6, 0.99010000022128, 0.99000000022352],\n",
       "  [7, 0.99010000022128, 0.99000000022352],\n",
       "  [8, 0.99010000022128, 0.99000000022352],\n",
       "  [9, 0.99010000022128, 0.99000000022352],\n",
       "  [10, 0.99010000022128, 0.99000000022352],\n",
       "  [11, 0.99010000022128, 0.99000000022352],\n",
       "  [12, 0.99010000022128, 0.99000000022352],\n",
       "  [13, 0.99010000022128, 0.99000000022352],\n",
       "  [14, 0.99010000022128, 0.99000000022352],\n",
       "  [15, 0.99010000022128, 0.99000000022352],\n",
       "  [16, 0.99010000022128, 0.99000000022352],\n",
       "  [17, 0.99010000022128, 0.99000000022352],\n",
       "  [18, 0.47740000098900004, 0.476300002933],\n",
       "  [19, 0.45190000146599996, 0.457500002682],\n",
       "  [20, 0.43240000248, 0.438500002921],\n",
       "  [21, 0.43240000248, 0.438500002921],\n",
       "  [22, 0.43240000248, 0.438500002921],\n",
       "  [23, 0.43240000248, 0.438500002921],\n",
       "  [24, 0.43240000248, 0.438500002921]]}"
      ]
     },
     "execution_count": 50,
     "metadata": {},
     "output_type": "execute_result"
    }
   ],
   "source": [
    "min_results['smac_early']"
   ]
  },
  {
   "cell_type": "code",
   "execution_count": 44,
   "metadata": {
    "collapsed": false
   },
   "outputs": [],
   "source": [
    "import matplotlib\n",
    "from matplotlib.backends.backend_pdf import PdfPages\n",
    "from matplotlib import pyplot as plt\n"
   ]
  },
  {
   "cell_type": "code",
   "execution_count": 49,
   "metadata": {
    "collapsed": false
   },
   "outputs": [
    {
     "ename": "KeyError",
     "evalue": "'smac'",
     "output_type": "error",
     "traceback": [
      "\u001b[1;31m---------------------------------------------------------------------------\u001b[0m",
      "\u001b[1;31mKeyError\u001b[0m                                  Traceback (most recent call last)",
      "\u001b[1;32m<ipython-input-49-4a90e3cef9e7>\u001b[0m in \u001b[0;36m<module>\u001b[1;34m()\u001b[0m\n\u001b[0;32m     23\u001b[0m \u001b[0mplt\u001b[0m\u001b[1;33m.\u001b[0m\u001b[0mfigure\u001b[0m\u001b[1;33m(\u001b[0m\u001b[0mfigsize\u001b[0m\u001b[1;33m=\u001b[0m\u001b[1;33m(\u001b[0m\u001b[1;36m11\u001b[0m\u001b[1;33m,\u001b[0m\u001b[1;36m8.5\u001b[0m\u001b[1;33m)\u001b[0m\u001b[1;33m)\u001b[0m\u001b[1;33m\u001b[0m\u001b[0m\n\u001b[0;32m     24\u001b[0m \u001b[0mplt\u001b[0m\u001b[1;33m.\u001b[0m\u001b[0msubplot\u001b[0m\u001b[1;33m(\u001b[0m\u001b[1;36m121\u001b[0m\u001b[1;33m)\u001b[0m\u001b[1;33m\u001b[0m\u001b[0m\n\u001b[1;32m---> 25\u001b[1;33m \u001b[0mresults_plot\u001b[0m\u001b[1;33m(\u001b[0m\u001b[1;36m1\u001b[0m\u001b[1;33m)\u001b[0m\u001b[1;33m\u001b[0m\u001b[0m\n\u001b[0m\u001b[0;32m     26\u001b[0m \u001b[0mplt\u001b[0m\u001b[1;33m.\u001b[0m\u001b[0msubplot\u001b[0m\u001b[1;33m(\u001b[0m\u001b[1;36m122\u001b[0m\u001b[1;33m)\u001b[0m\u001b[1;33m\u001b[0m\u001b[0m\n\u001b[0;32m     27\u001b[0m \u001b[0mresults_plot\u001b[0m\u001b[1;33m(\u001b[0m\u001b[1;36m2\u001b[0m\u001b[1;33m)\u001b[0m\u001b[1;33m\u001b[0m\u001b[0m\n",
      "\u001b[1;32m<ipython-input-49-4a90e3cef9e7>\u001b[0m in \u001b[0;36mresults_plot\u001b[1;34m(index)\u001b[0m\n\u001b[0;32m      9\u001b[0m         \u001b[1;32mfor\u001b[0m \u001b[0mseed_ind\u001b[0m \u001b[1;32min\u001b[0m \u001b[0mrange\u001b[0m\u001b[1;33m(\u001b[0m\u001b[1;36m1\u001b[0m\u001b[1;33m)\u001b[0m\u001b[1;33m:\u001b[0m\u001b[1;33m\u001b[0m\u001b[0m\n\u001b[0;32m     10\u001b[0m             \u001b[0mseed\u001b[0m\u001b[1;33m=\u001b[0m\u001b[0mseeds\u001b[0m\u001b[1;33m[\u001b[0m\u001b[0ms\u001b[0m\u001b[1;33m]\u001b[0m\u001b[1;33m\u001b[0m\u001b[0m\n\u001b[1;32m---> 11\u001b[1;33m             \u001b[1;32mif\u001b[0m \u001b[0mmin_results\u001b[0m\u001b[1;33m[\u001b[0m\u001b[0ms\u001b[0m\u001b[1;33m]\u001b[0m\u001b[1;33m[\u001b[0m\u001b[0mseed\u001b[0m\u001b[1;33m]\u001b[0m\u001b[1;33m[\u001b[0m\u001b[1;36m0\u001b[0m\u001b[1;33m]\u001b[0m\u001b[1;33m[\u001b[0m\u001b[1;36m0\u001b[0m\u001b[1;33m]\u001b[0m\u001b[1;33m>\u001b[0m\u001b[1;36m0\u001b[0m\u001b[1;33m:\u001b[0m\u001b[1;33m\u001b[0m\u001b[0m\n\u001b[0m\u001b[0;32m     12\u001b[0m                 \u001b[0mmin_results\u001b[0m\u001b[1;33m[\u001b[0m\u001b[0ms\u001b[0m\u001b[1;33m]\u001b[0m\u001b[1;33m[\u001b[0m\u001b[0mseed\u001b[0m\u001b[1;33m]\u001b[0m\u001b[1;33m.\u001b[0m\u001b[0minsert\u001b[0m\u001b[1;33m(\u001b[0m\u001b[1;36m0\u001b[0m\u001b[1;33m,\u001b[0m\u001b[1;33m[\u001b[0m\u001b[1;36m1\u001b[0m\u001b[1;33m,\u001b[0m\u001b[1;36m1\u001b[0m\u001b[1;33m,\u001b[0m\u001b[1;36m1\u001b[0m\u001b[1;33m]\u001b[0m\u001b[1;33m)\u001b[0m\u001b[1;33m\u001b[0m\u001b[0m\n\u001b[0;32m     13\u001b[0m             \u001b[1;32mif\u001b[0m \u001b[0mseed_ind\u001b[0m\u001b[1;33m==\u001b[0m\u001b[1;36m0\u001b[0m\u001b[1;33m:\u001b[0m\u001b[1;33m\u001b[0m\u001b[0m\n",
      "\u001b[1;31mKeyError\u001b[0m: 'smac'"
     ]
    }
   ],
   "source": [
    "colors={'hyperband':'y','smac':'r','hyperopt':'b','random':'g','spearmint':'c','random_2x':'g'}\n",
    "seeds={'hyperband':3,'random':3, 'smac':100,'hyperopt': 100,'spearmint':100}\n",
    "def results_plot(index):\n",
    "    for s in ['smac','hyperopt','hyperband','random_2x','spearmint']:\n",
    "        if index==2:\n",
    "            axis_label='Test Error'\n",
    "        else:\n",
    "            axis_label='Val Error'\n",
    "        for seed_ind in range(1):\n",
    "            seed=seeds[s]\n",
    "            if min_results[s][seed][0][0]>0:\n",
    "                min_results[s][seed].insert(0,[1,1,1])\n",
    "            if seed_ind==0:\n",
    "                plt.plot([t[0] for t in min_results[s][seed]],[t[index] for t in min_results[s][seed]],color=colors[s])\n",
    "            else:\n",
    "                plt.plot([t[0] for t in min_results[s][seed]],[t[index] for t in min_results[s][seed]],color=colors[s],\n",
    "                         label=s)\n",
    "        plt.legend()\n",
    "        plt.xlabel('# Arms trained to Completion')\n",
    "        plt.ylabel(axis_label)\n",
    "    #plt.ticklabel_format(style='sci', axis='x', scilimits=(0,0))\n",
    "pdf=PdfPages('../mrbi_error_trial2.pdf')\n",
    "plt.figure(figsize=(11,8.5))\n",
    "plt.subplot(121)\n",
    "results_plot(1)\n",
    "plt.subplot(122)\n",
    "results_plot(2)\n",
    "plt.suptitle('Validation and Test Error on Cifar10')\n",
    "pdf.savefig()\n",
    "plt.close()\n",
    "pdf.close()\n",
    "#plt.show()\n"
   ]
  },
  {
   "cell_type": "code",
   "execution_count": 50,
   "metadata": {
    "collapsed": false
   },
   "outputs": [],
   "source": [
    "colors={'hyperband_constant':'y','smac':'r','hyperopt':'b','random':'g','spearmint':'c','random_2x':'g','smac_early':'r','random_early':'g'}\n",
    "labels={'hyperband_constant':'hyperband','smac':'smac','hyperopt':'TPE','random':'random','spearmint':'spearmint','random_2x':'random_2x','smac_early':'smac_early','random_early':'random_early'}\n",
    "def results_plot(index,error):\n",
    "    matplotlib.rcParams.update({'font.size': 16})\n",
    "    line_width=2\n",
    "    edge_width=2\n",
    "    shift = 0.3\n",
    "    for s in ['random_early','smac_early','hyperband_constant']:\n",
    "        if index==2:\n",
    "            axis_label='Average Test Error'\n",
    "        else:\n",
    "            axis_label='Average Val Error'\n",
    "        if s == 'hyperband' or s == 'hyperband_constant':\n",
    "            if error:\n",
    "                plt.errorbar([i[0][0] for i in mean_data[s]],[i[1][index] for i in mean_data[s]],color=colors[s],\n",
    "                              yerr=[[i[0][index] for i in mean_data[s]],[i[2][index] for i in mean_data[s]]],\n",
    "                         label=labels[s],linewidth=line_width,marker='x',markeredgewidth=edge_width,elinewidth=0.5,capthick=0.5)\n",
    "            else:\n",
    "                plt.plot([i[0][0] for i in mean_data[s]],[i[1][index] for i in mean_data[s]],color=colors[s],                          \n",
    "                     label=labels[s],linewidth=line_width,marker='x',markeredgewidth=edge_width)\n",
    "            #+' # trials = '+str(len(min_results[s].keys()))\n",
    "            #x=[i[0][0] for i in mean_data[s]]\n",
    "            #y=numpy.array([i[1][index] for i in mean_data[s]])\n",
    "            #y_min=y-numpy.array([i[0][index] for i in mean_data[s]])\n",
    "            #y_max=y+numpy.array([i[2][index] for i in mean_data[s]])\n",
    "            #    plt.plot(x,y,color=colors[s],\n",
    "            #              label=s+' # trials = '+str(len(min_results[s].keys())))\n",
    "            #plt.fill_between(x,y_min,y_max,alpha=0.5,edgecolor='y',facecolor='y')\n",
    "        elif s=='random_2x':\n",
    "            if error:\n",
    "                plt.errorbar([row[0][0] for row in mean_data[s]],[row[1][index] for row in mean_data[s]],color=colors[s],errorevery=8,\n",
    "                          yerr=[[row[0][index] for row in mean_data[s]],\n",
    "                                [row[2][index] for row in mean_data[s]]],label=labels[s],linewidth=line_width,marker='+',markeredgewidth=edge_width,elinewidth=0.5,capthick=0.5,markevery=4)\n",
    "            else:\n",
    "                plt.plot([row[0][0] for row in mean_data[s]],[row[1][index] for row in mean_data[s]],color=colors[s],\n",
    "                          label=labels[s],linewidth=line_width,marker='+',markeredgewidth=edge_width,markevery=4)\n",
    "        elif s=='smac_early' or s =='random_early':\n",
    "            if error:\n",
    "                plt.errorbar(numpy.array([row[0][0]+shift for row in mean_data[s]]),[row[1][index] for row in mean_data[s]],color=colors[s],errorevery=4,\n",
    "                          yerr=[[row[0][index] for row in mean_data[s]],\n",
    "                                [row[2][index] for row in mean_data[s]]],label=labels[s],linewidth=line_width,elinewidth=0.5,capthick=0.5,marker='^',markevery=4,markeredgecolor=colors[s])\n",
    "            else:\n",
    "                plt.plot(numpy.array([row[0][0] for row in mean_data[s]]),[row[1][index] for row in mean_data[s]],color=colors[s],\n",
    "                          label=labels[s],linewidth=line_width, marker='^',markevery=4,markeredgecolor=colors[s])\n",
    "            shift+=0.3\n",
    "        else:\n",
    "            #plt.plot([i[0][0] for i in mean_data[s]],[i[1][index] for i in mean_data[s]],color=colors[s],                          \n",
    "            #         label=s+' # trials = '+str(len(min_results[s].keys())))\n",
    "            #x=[row[0][0] for row in mean_data[s]]\n",
    "            #y=numpy.array([row[1][index] for row in mean_data[s]])\n",
    "            #y_min=y-numpy.array([row[0][index] for row in mean_data[s]])\n",
    "            #y_max=y+numpy.array([row[2][index] for row in mean_data[s]])\n",
    "            if error:\n",
    "                plt.errorbar(numpy.array([row[0][0]+shift for row in mean_data[s]]),[row[1][index] for row in mean_data[s]],color=colors[s],errorevery=4,\n",
    "                          yerr=[[row[0][index] for row in mean_data[s]],\n",
    "                                [row[2][index] for row in mean_data[s]]],label=labels[s],linewidth=line_width,elinewidth=0.5,capthick=0.5)\n",
    "            else:\n",
    "                plt.plot(numpy.array([row[0][0] for row in mean_data[s]]),[row[1][index] for row in mean_data[s]],color=colors[s],\n",
    "                          label=labels[s],linewidth=line_width)\n",
    "            shift+=0.3\n",
    "    plt.legend(fancybox=True, framealpha=0.75,loc=1)\n",
    "    plt.xlim([0,31])\n",
    "    #plt.ylim([0.025,0.175])\n",
    "    plt.xlabel('Multiple of Max Iter Used')\n",
    "    plt.ylabel(axis_label)\n",
    "    #plt.ticklabel_format(style='sci', axis='x', scilimits=(0,0))\n",
    "pdf=PdfPages('../cifar100_small_search.pdf')\n",
    "plt.figure(figsize=(6.5,5.5))\n",
    "#plt.subplot(121)\n",
    "#results_plot(1)\n",
    "#plt.subplot(122)\n",
    "results_plot(2,1)\n",
    "#plt.suptitle('Test Error on CIFAR-10')\n",
    "pdf.savefig()\n",
    "plt.close()\n",
    "pdf.close()\n"
   ]
  },
  {
   "cell_type": "code",
   "execution_count": 299,
   "metadata": {
    "collapsed": false
   },
   "outputs": [
    {
     "ename": "NameError",
     "evalue": "name 'shift' is not defined",
     "output_type": "error",
     "traceback": [
      "\u001b[1;31m---------------------------------------------------------------------------\u001b[0m",
      "\u001b[1;31mNameError\u001b[0m                                 Traceback (most recent call last)",
      "\u001b[1;32m<ipython-input-299-941a82a3b8a9>\u001b[0m in \u001b[0;36m<module>\u001b[1;34m()\u001b[0m\n\u001b[1;32m----> 1\u001b[1;33m \u001b[0mshift\u001b[0m\u001b[1;33m\u001b[0m\u001b[0m\n\u001b[0m",
      "\u001b[1;31mNameError\u001b[0m: name 'shift' is not defined"
     ]
    }
   ],
   "source": [
    "shift"
   ]
  },
  {
   "cell_type": "code",
   "execution_count": 171,
   "metadata": {
    "collapsed": false
   },
   "outputs": [
    {
     "data": {
      "text/plain": [
       "[(array(0.7599999904632568, dtype=float32),\n",
       "  array(0.8199999928474426, dtype=float32)),\n",
       " (array(0.7099999785423279, dtype=float32), array(0.75, dtype=float32)),\n",
       " (array(0.7099999785423279, dtype=float32),\n",
       "  array(0.8100000023841858, dtype=float32)),\n",
       " (array(0.699999988079071, dtype=float32),\n",
       "  array(0.7799999713897705, dtype=float32)),\n",
       " (array(0.699999988079071, dtype=float32),\n",
       "  array(0.7099999785423279, dtype=float32)),\n",
       " (array(0.7799999713897705, dtype=float32),\n",
       "  array(0.8299999833106995, dtype=float32)),\n",
       " (array(0.6800000071525574, dtype=float32),\n",
       "  array(0.7900000214576721, dtype=float32)),\n",
       " (array(0.699999988079071, dtype=float32),\n",
       "  array(0.7900000214576721, dtype=float32)),\n",
       " (array(0.7900000214576721, dtype=float32),\n",
       "  array(0.8299999833106995, dtype=float32))]"
      ]
     },
     "execution_count": 171,
     "metadata": {},
     "output_type": "execute_result"
    }
   ],
   "source": [
    "[(max([i[2] for i in data['random'][s][0]]),max([i[3] for i in data['random'][s][0]])) for s in data['random'].keys()]"
   ]
  },
  {
   "cell_type": "code",
   "execution_count": null,
   "metadata": {
    "collapsed": true
   },
   "outputs": [],
   "source": []
  }
 ],
 "metadata": {
  "kernelspec": {
   "display_name": "Python 2",
   "language": "python",
   "name": "python2"
  },
  "language_info": {
   "codemirror_mode": {
    "name": "ipython",
    "version": 2
   },
   "file_extension": ".py",
   "mimetype": "text/x-python",
   "name": "python",
   "nbconvert_exporter": "python",
   "pygments_lexer": "ipython2",
   "version": "2.7.10"
  }
 },
 "nbformat": 4,
 "nbformat_minor": 0
}
